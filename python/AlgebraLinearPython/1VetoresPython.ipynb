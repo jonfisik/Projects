{
  "nbformat": 4,
  "nbformat_minor": 0,
  "metadata": {
    "colab": {
      "name": "VetoresPython.ipynb",
      "provenance": [],
      "collapsed_sections": [],
      "authorship_tag": "ABX9TyNx2YxLug88EDufovjK7Ltp",
      "include_colab_link": true
    },
    "kernelspec": {
      "display_name": "Python 3",
      "name": "python3"
    }
  },
  "cells": [
    {
      "cell_type": "markdown",
      "metadata": {
        "id": "view-in-github",
        "colab_type": "text"
      },
      "source": [
        "<a href=\"https://colab.research.google.com/github/jonfisik/Projects/blob/master/VetoresPython.ipynb\" target=\"_parent\"><img src=\"https://colab.research.google.com/assets/colab-badge.svg\" alt=\"Open In Colab\"/></a>"
      ]
    },
    {
      "cell_type": "code",
      "metadata": {
        "id": "hxvVhYN81k_L"
      },
      "source": [
        "import numpy as np\n",
        "import matplotlib.pyplot as plt"
      ],
      "execution_count": null,
      "outputs": []
    },
    {
      "cell_type": "code",
      "metadata": {
        "id": "0KjT5FRU1qH-"
      },
      "source": [
        "u = [1,2]"
      ],
      "execution_count": null,
      "outputs": []
    },
    {
      "cell_type": "code",
      "metadata": {
        "id": "RsYsztB01tqW"
      },
      "source": [
        "v = [2,1]"
      ],
      "execution_count": null,
      "outputs": []
    },
    {
      "cell_type": "code",
      "metadata": {
        "id": "RuKDZFmu1zK2",
        "colab": {
          "base_uri": "https://localhost:8080/",
          "height": 34
        },
        "outputId": "86c2bbf2-7ac7-4d0f-b03f-ad3caf944b5b"
      },
      "source": [
        "# somou listas\n",
        "u + v\n"
      ],
      "execution_count": null,
      "outputs": [
        {
          "output_type": "execute_result",
          "data": {
            "text/plain": [
              "[1, 2, 2, 1]"
            ]
          },
          "metadata": {
            "tags": []
          },
          "execution_count": 4
        }
      ]
    },
    {
      "cell_type": "code",
      "metadata": {
        "id": "Gx0nLjuh2Oct"
      },
      "source": [
        "u = np.array(u)\n",
        "v = np.array(v)"
      ],
      "execution_count": null,
      "outputs": []
    },
    {
      "cell_type": "code",
      "metadata": {
        "id": "_BLZ_jyx2nMj",
        "colab": {
          "base_uri": "https://localhost:8080/",
          "height": 34
        },
        "outputId": "1216daf1-1d7c-4b1b-db09-5ca23f901be8"
      },
      "source": [
        "# soma de vetores\n",
        "u + v"
      ],
      "execution_count": null,
      "outputs": [
        {
          "output_type": "execute_result",
          "data": {
            "text/plain": [
              "array([3, 3])"
            ]
          },
          "metadata": {
            "tags": []
          },
          "execution_count": 6
        }
      ]
    },
    {
      "cell_type": "code",
      "metadata": {
        "id": "7eaC7Q012tTW"
      },
      "source": [
        "#----------------------------------------------"
      ],
      "execution_count": null,
      "outputs": []
    },
    {
      "cell_type": "code",
      "metadata": {
        "id": "YLt0H0Xq8hJz"
      },
      "source": [
        "w1 = np.array([2,3]) "
      ],
      "execution_count": null,
      "outputs": []
    },
    {
      "cell_type": "code",
      "metadata": {
        "id": "f5R1lMJc8hkQ"
      },
      "source": [
        "w2 = np.array([4,-1])"
      ],
      "execution_count": null,
      "outputs": []
    },
    {
      "cell_type": "code",
      "metadata": {
        "id": "MxiJZFgS88X-",
        "colab": {
          "base_uri": "https://localhost:8080/",
          "height": 34
        },
        "outputId": "2fd5e7a6-e219-488b-e1f8-1b2a2a367008"
      },
      "source": [
        "# Produto escalar ou interno função --> .dot()\n",
        "w1.dot(w2)"
      ],
      "execution_count": null,
      "outputs": [
        {
          "output_type": "execute_result",
          "data": {
            "text/plain": [
              "5"
            ]
          },
          "metadata": {
            "tags": []
          },
          "execution_count": 10
        }
      ]
    },
    {
      "cell_type": "code",
      "metadata": {
        "id": "3hHNb6hD9O12",
        "colab": {
          "base_uri": "https://localhost:8080/",
          "height": 34
        },
        "outputId": "ffa30746-5d5c-4adc-cdf7-db0b58c02f9d"
      },
      "source": [
        "w2.dot(w1)"
      ],
      "execution_count": null,
      "outputs": [
        {
          "output_type": "execute_result",
          "data": {
            "text/plain": [
              "5"
            ]
          },
          "metadata": {
            "tags": []
          },
          "execution_count": 11
        }
      ]
    },
    {
      "cell_type": "code",
      "metadata": {
        "id": "lgRfx6699Z9k"
      },
      "source": [
        "# Módulo função --> .norm(vetor)\n",
        "modulo_w1 = np.linalg.norm(w1) # foi atribuido o valor da norma a uma variável\n",
        "modulo_w2 = np.linalg.norm(w2) # Idem"
      ],
      "execution_count": null,
      "outputs": []
    },
    {
      "cell_type": "code",
      "metadata": {
        "id": "8sOMRekC-GFK",
        "colab": {
          "base_uri": "https://localhost:8080/",
          "height": 34
        },
        "outputId": "7b3a7688-1a3c-4ca3-dac2-aa1d36280e74"
      },
      "source": [
        "modulo_w1"
      ],
      "execution_count": null,
      "outputs": [
        {
          "output_type": "execute_result",
          "data": {
            "text/plain": [
              "3.605551275463989"
            ]
          },
          "metadata": {
            "tags": []
          },
          "execution_count": 13
        }
      ]
    },
    {
      "cell_type": "code",
      "metadata": {
        "id": "PSoj0fdk-MMa",
        "colab": {
          "base_uri": "https://localhost:8080/",
          "height": 34
        },
        "outputId": "6bec7246-b97d-4703-e832-d09afa8ac765"
      },
      "source": [
        "modulo_w2\n"
      ],
      "execution_count": null,
      "outputs": [
        {
          "output_type": "execute_result",
          "data": {
            "text/plain": [
              "4.123105625617661"
            ]
          },
          "metadata": {
            "tags": []
          },
          "execution_count": 14
        }
      ]
    },
    {
      "cell_type": "code",
      "metadata": {
        "id": "iV9YxMkO-S7J",
        "colab": {
          "base_uri": "https://localhost:8080/",
          "height": 34
        },
        "outputId": "6b84641e-9e80-4f9d-9bcf-d60f2f7feabb"
      },
      "source": [
        "np.linalg.norm(w1)"
      ],
      "execution_count": null,
      "outputs": [
        {
          "output_type": "execute_result",
          "data": {
            "text/plain": [
              "3.605551275463989"
            ]
          },
          "metadata": {
            "tags": []
          },
          "execution_count": 15
        }
      ]
    },
    {
      "cell_type": "code",
      "metadata": {
        "id": "8IccJu_P-w34"
      },
      "source": [
        "#----------------------------------------------------- 15/10/2020\n",
        "v = np.array([1,2,3,4])"
      ],
      "execution_count": null,
      "outputs": []
    },
    {
      "cell_type": "code",
      "metadata": {
        "id": "PFp_r4lsvskK",
        "colab": {
          "base_uri": "https://localhost:8080/",
          "height": 34
        },
        "outputId": "025b4777-b0f1-49f8-d18f-6b465e7b3ef1"
      },
      "source": [
        "v"
      ],
      "execution_count": null,
      "outputs": [
        {
          "output_type": "execute_result",
          "data": {
            "text/plain": [
              "array([1, 2, 3, 4])"
            ]
          },
          "metadata": {
            "tags": []
          },
          "execution_count": 17
        }
      ]
    },
    {
      "cell_type": "code",
      "metadata": {
        "id": "rfGDCmr2vuJF",
        "colab": {
          "base_uri": "https://localhost:8080/",
          "height": 34
        },
        "outputId": "da798589-5934-4e80-c7c1-d6f9be78fc1e"
      },
      "source": [
        "type(v)"
      ],
      "execution_count": null,
      "outputs": [
        {
          "output_type": "execute_result",
          "data": {
            "text/plain": [
              "numpy.ndarray"
            ]
          },
          "metadata": {
            "tags": []
          },
          "execution_count": 18
        }
      ]
    },
    {
      "cell_type": "code",
      "metadata": {
        "id": "e-PYHFaBwIi0"
      },
      "source": [
        "# Descrição de uma função\n",
        "?np.array"
      ],
      "execution_count": null,
      "outputs": []
    },
    {
      "cell_type": "code",
      "metadata": {
        "id": "uiah7w-gwfhr"
      },
      "source": [
        "lista = [3,5,66,20]"
      ],
      "execution_count": null,
      "outputs": []
    },
    {
      "cell_type": "code",
      "metadata": {
        "id": "CV1QmkhJxGtZ",
        "colab": {
          "base_uri": "https://localhost:8080/",
          "height": 34
        },
        "outputId": "80ee7435-40a0-4ee1-aaa9-b9e9bfc0a1f9"
      },
      "source": [
        "type(lista)"
      ],
      "execution_count": null,
      "outputs": [
        {
          "output_type": "execute_result",
          "data": {
            "text/plain": [
              "list"
            ]
          },
          "metadata": {
            "tags": []
          },
          "execution_count": 21
        }
      ]
    },
    {
      "cell_type": "code",
      "metadata": {
        "id": "x5XctJxLxJzZ"
      },
      "source": [
        "# Transformar uma lista em um vetor\n",
        "v1 = np.array(lista)\n",
        "v2 = np.array([1,2,3,4])\n",
        "v3 = np.array((4,3,2,1))"
      ],
      "execution_count": null,
      "outputs": []
    },
    {
      "cell_type": "code",
      "metadata": {
        "id": "VTKOa17SxPch",
        "colab": {
          "base_uri": "https://localhost:8080/",
          "height": 34
        },
        "outputId": "04ed7c24-f0ec-45b7-9dd9-34d8a003e254"
      },
      "source": [
        "v1"
      ],
      "execution_count": null,
      "outputs": [
        {
          "output_type": "execute_result",
          "data": {
            "text/plain": [
              "array([ 3,  5, 66, 20])"
            ]
          },
          "metadata": {
            "tags": []
          },
          "execution_count": 23
        }
      ]
    },
    {
      "cell_type": "code",
      "metadata": {
        "id": "I7oUwMeNxeuy",
        "colab": {
          "base_uri": "https://localhost:8080/",
          "height": 34
        },
        "outputId": "ba1c3e24-f4cd-4a52-8153-7bc693039c96"
      },
      "source": [
        "v2"
      ],
      "execution_count": null,
      "outputs": [
        {
          "output_type": "execute_result",
          "data": {
            "text/plain": [
              "array([1, 2, 3, 4])"
            ]
          },
          "metadata": {
            "tags": []
          },
          "execution_count": 24
        }
      ]
    },
    {
      "cell_type": "code",
      "metadata": {
        "id": "EKMCTJdGxleI",
        "colab": {
          "base_uri": "https://localhost:8080/",
          "height": 34
        },
        "outputId": "1e6caf2d-6b49-495c-b7cb-d6962c813962"
      },
      "source": [
        "v3"
      ],
      "execution_count": null,
      "outputs": [
        {
          "output_type": "execute_result",
          "data": {
            "text/plain": [
              "array([4, 3, 2, 1])"
            ]
          },
          "metadata": {
            "tags": []
          },
          "execution_count": 25
        }
      ]
    },
    {
      "cell_type": "code",
      "metadata": {
        "id": "RBi_-47WyjlG"
      },
      "source": [
        "# Representação de vetores\n",
        "e1 = np.array([1,0,0])\n",
        "e2 = np.array([0,1,0])\n",
        "e3 = np.array([0,0,1])"
      ],
      "execution_count": null,
      "outputs": []
    },
    {
      "cell_type": "code",
      "metadata": {
        "id": "-BLVQdWNzn2s"
      },
      "source": [
        "#------------------------------------------"
      ],
      "execution_count": null,
      "outputs": []
    },
    {
      "cell_type": "code",
      "metadata": {
        "id": "UDoHun3A0rCG"
      },
      "source": [
        "def plotVectors(vecs, cols, alpha=2):\n",
        "    ''' função para plotar vetores'''\n",
        "    plt.figure()\n",
        "    plt.axvline(x=0, color='#A9A9A9', zorder=0)\n",
        "    plt.axhline(y=0, color='#A9A9A9', zorder=0)\n",
        "\n",
        "    for i in range(len(vecs)):\n",
        "        x = np.concatenate([[0,0],vecs[i]])\n",
        "        plt.quiver([x[0]],\n",
        "                   [x[1]],\n",
        "                   [x[2]],\n",
        "                   [x[3]],\n",
        "                   angles='xy', scale_units='xy', scale=1, color=cols[i], \n",
        "                  alpha=alpha)"
      ],
      "execution_count": null,
      "outputs": []
    },
    {
      "cell_type": "code",
      "metadata": {
        "id": "wSEvprR83X75",
        "colab": {
          "base_uri": "https://localhost:8080/",
          "height": 286
        },
        "outputId": "dacdc557-ceda-44a4-a60d-93deb591ef35"
      },
      "source": [
        "laranja = '#FF9A13'\n",
        "azul = '#1190FF'\n",
        "resultante = '#11FFFF'\n",
        "\n",
        "plotVectors([[2,3], [4,-1], [6,2]], [laranja, azul, resultante])\n",
        "\n",
        "plt.xlim(-1,7)\n",
        "plt.ylim(-2,7)"
      ],
      "execution_count": null,
      "outputs": [
        {
          "output_type": "execute_result",
          "data": {
            "text/plain": [
              "(-2.0, 7.0)"
            ]
          },
          "metadata": {
            "tags": []
          },
          "execution_count": 29
        },
        {
          "output_type": "display_data",
          "data": {
            "image/png": "[encoded data removed]",
            "text/plain": [
              "<Figure size 432x288 with 1 Axes>"
            ]
          },
          "metadata": {
            "tags": [],
            "needs_background": "light"
          }
        }
      ]
    },
    {
      "cell_type": "code",
      "metadata": {
        "id": "-NdgEvI35zU0",
        "colab": {
          "base_uri": "https://localhost:8080/",
          "height": 286
        },
        "outputId": "6c1188c4-fb5f-4b2e-af6e-5a2fd1bfec2b"
      },
      "source": [
        "#Cores\n",
        "cor1 = '#FF0000'\n",
        "cor2 = '#FF0000'\n",
        "corRes = '#11FFFF'\n",
        "\n",
        "# Vetores\n",
        "a = np.array([2,3])\n",
        "b = np.array([3,1])\n",
        "\n",
        "# Soma\n",
        "r =  a + b\n",
        "\n",
        "# Função\n",
        "plotVectors([a, b, r], [cor1, cor2, corRes])\n",
        "\n",
        "# Plano cartesiano\n",
        "plt.xlim(-1,6)\n",
        "plt.ylim(-5,10)"
      ],
      "execution_count": null,
      "outputs": [
        {
          "output_type": "execute_result",
          "data": {
            "text/plain": [
              "(-5.0, 10.0)"
            ]
          },
          "metadata": {
            "tags": []
          },
          "execution_count": 30
        },
        {
          "output_type": "display_data",
          "data": {
            "image/png": "[encoded data removed]",
            "text/plain": [
              "<Figure size 432x288 with 1 Axes>"
            ]
          },
          "metadata": {
            "tags": [],
            "needs_background": "light"
          }
        }
      ]
    },
    {
      "cell_type": "code",
      "metadata": {
        "id": "tHFA2HkMZLba",
        "colab": {
          "base_uri": "https://localhost:8080/",
          "height": 286
        },
        "outputId": "57b53cc6-4c50-4100-e5b6-db27a4f338ad"
      },
      "source": [
        "plotVectors([e1,e2],[cor1,cor2])\n",
        "\n",
        "plt.xlim(-1,1.5)\n",
        "plt.ylim(-1,1.5)"
      ],
      "execution_count": null,
      "outputs": [
        {
          "output_type": "execute_result",
          "data": {
            "text/plain": [
              "(-1.0, 1.5)"
            ]
          },
          "metadata": {
            "tags": []
          },
          "execution_count": 31
        },
        {
          "output_type": "display_data",
          "data": {
            "image/png": "[encoded data removed]",
            "text/plain": [
              "<Figure size 432x288 with 1 Axes>"
            ]
          },
          "metadata": {
            "tags": [],
            "needs_background": "light"
          }
        }
      ]
    },
    {
      "cell_type": "code",
      "metadata": {
        "id": "HYPzM8oYbjZ1"
      },
      "source": [
        "# Ângulo entre vetores\n",
        "def ang_2vetores(v,u):\n",
        "  v_escalar_u = v.dot(u)\n",
        "\n",
        "  vn = np.linalg.norm(v)\n",
        "  un = np.linalg.norm(u)\n",
        "\n",
        "  r = v_escalar_u/(vn*un) # cosseno do angulo\n",
        "\n",
        "  ang = np.arccos(r) # ang em radianos\n",
        "\n",
        "  return (180/np.pi)*ang # ang em graus"
      ],
      "execution_count": null,
      "outputs": []
    },
    {
      "cell_type": "code",
      "metadata": {
        "id": "3BKK2NfIfqDQ"
      },
      "source": [
        "u = np.array([0,1])\n",
        "v = np.array([1,0])"
      ],
      "execution_count": null,
      "outputs": []
    },
    {
      "cell_type": "code",
      "metadata": {
        "id": "cIJZESnGgPpS",
        "colab": {
          "base_uri": "https://localhost:8080/",
          "height": 286
        },
        "outputId": "db6cd0a2-fb57-4d42-b387-5714783f1fac"
      },
      "source": [
        "red = 'red'\n",
        "blue = 'blue'\n",
        "\n",
        "plotVectors([u,v], [red, blue])\n",
        "plt.xlim(-1,1.5)\n",
        "plt.ylim(-1,1.5)"
      ],
      "execution_count": null,
      "outputs": [
        {
          "output_type": "execute_result",
          "data": {
            "text/plain": [
              "(-1.0, 1.5)"
            ]
          },
          "metadata": {
            "tags": []
          },
          "execution_count": 34
        },
        {
          "output_type": "display_data",
          "data": {
            "image/png": "[encoded data removed]",
            "text/plain": [
              "<Figure size 432x288 with 1 Axes>"
            ]
          },
          "metadata": {
            "tags": [],
            "needs_background": "light"
          }
        }
      ]
    },
    {
      "cell_type": "code",
      "metadata": {
        "id": "BAFf6_e0g1pA",
        "colab": {
          "base_uri": "https://localhost:8080/",
          "height": 34
        },
        "outputId": "80c9a2a6-03f6-4edd-da9e-1f016dd68900"
      },
      "source": [
        "ang_2vetores(u,v)"
      ],
      "execution_count": null,
      "outputs": [
        {
          "output_type": "execute_result",
          "data": {
            "text/plain": [
              "90.0"
            ]
          },
          "metadata": {
            "tags": []
          },
          "execution_count": 35
        }
      ]
    },
    {
      "cell_type": "code",
      "metadata": {
        "id": "MtNrpUK7hGBO",
        "colab": {
          "base_uri": "https://localhost:8080/",
          "height": 286
        },
        "outputId": "4cb97c53-c69a-4657-e6df-a1e91704b417"
      },
      "source": [
        "A = np.array([1,1])\n",
        "B = np.array([1,0])\n",
        "\n",
        "red = 'red'\n",
        "blue = 'blue'\n",
        "\n",
        "plotVectors([A, B], [red, blue])\n",
        "plt.xlim(-1,1.5)\n",
        "plt.ylim(-1,1.5)\n"
      ],
      "execution_count": null,
      "outputs": [
        {
          "output_type": "execute_result",
          "data": {
            "text/plain": [
              "(-1.0, 1.5)"
            ]
          },
          "metadata": {
            "tags": []
          },
          "execution_count": 36
        },
        {
          "output_type": "display_data",
          "data": {
            "image/png": "[encoded data removed]",
            "text/plain": [
              "<Figure size 432x288 with 1 Axes>"
            ]
          },
          "metadata": {
            "tags": [],
            "needs_background": "light"
          }
        }
      ]
    },
    {
      "cell_type": "code",
      "metadata": {
        "id": "FdhI44EChxKE",
        "colab": {
          "base_uri": "https://localhost:8080/",
          "height": 34
        },
        "outputId": "23da31c5-5e55-4246-ce55-57f571848511"
      },
      "source": [
        "ang_2vetores(A,B)"
      ],
      "execution_count": null,
      "outputs": [
        {
          "output_type": "execute_result",
          "data": {
            "text/plain": [
              "45.00000000000001"
            ]
          },
          "metadata": {
            "tags": []
          },
          "execution_count": 37
        }
      ]
    },
    {
      "cell_type": "code",
      "metadata": {
        "id": "DgOivgzRh0EE"
      },
      "source": [
        "# Indexação de vetores"
      ],
      "execution_count": null,
      "outputs": []
    },
    {
      "cell_type": "code",
      "metadata": {
        "id": "bLIswS80d4zP"
      },
      "source": [
        "# vetor\n",
        "x = [1,2,3,4,5]"
      ],
      "execution_count": null,
      "outputs": []
    },
    {
      "cell_type": "code",
      "metadata": {
        "id": "JU4qtuQcd-3I"
      },
      "source": [
        "vx = np.array(x)"
      ],
      "execution_count": null,
      "outputs": []
    },
    {
      "cell_type": "code",
      "metadata": {
        "id": "8z9NFpPkeDuP",
        "colab": {
          "base_uri": "https://localhost:8080/",
          "height": 34
        },
        "outputId": "adb3835f-459c-4806-e1bd-468c46d9dd99"
      },
      "source": [
        "# Tamanho do vetor\n",
        "len(vx)"
      ],
      "execution_count": null,
      "outputs": [
        {
          "output_type": "execute_result",
          "data": {
            "text/plain": [
              "5"
            ]
          },
          "metadata": {
            "tags": []
          },
          "execution_count": 42
        }
      ]
    },
    {
      "cell_type": "code",
      "metadata": {
        "id": "qmVmVHwSeP-P",
        "colab": {
          "base_uri": "https://localhost:8080/",
          "height": 34
        },
        "outputId": "6b8d6ebd-0c3e-4011-9c02-e18259d857fa"
      },
      "source": [
        "# posição inicial em python começa em \"0\"\n",
        "posicao_2 = vx[2]\n",
        "posicao_2"
      ],
      "execution_count": null,
      "outputs": [
        {
          "output_type": "execute_result",
          "data": {
            "text/plain": [
              "3"
            ]
          },
          "metadata": {
            "tags": []
          },
          "execution_count": 44
        }
      ]
    },
    {
      "cell_type": "code",
      "metadata": {
        "id": "iXtMmChPewjX",
        "colab": {
          "base_uri": "https://localhost:8080/",
          "height": 34
        },
        "outputId": "aa306899-2110-48bf-c182-e08b10d5beb2"
      },
      "source": [
        "posicao_0 = vx[0]\n",
        "posicao_0"
      ],
      "execution_count": null,
      "outputs": [
        {
          "output_type": "execute_result",
          "data": {
            "text/plain": [
              "1"
            ]
          },
          "metadata": {
            "tags": []
          },
          "execution_count": 46
        }
      ]
    },
    {
      "cell_type": "code",
      "metadata": {
        "id": "O3hT0aGnfR--"
      },
      "source": [
        ""
      ],
      "execution_count": null,
      "outputs": []
    }
  ]
}