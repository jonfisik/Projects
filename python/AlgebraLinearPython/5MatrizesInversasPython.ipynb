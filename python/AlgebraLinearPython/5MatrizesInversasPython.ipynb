{
  "nbformat": 4,
  "nbformat_minor": 0,
  "metadata": {
    "colab": {
      "name": "5MatrizesInversasPython.ipynb",
      "provenance": [],
      "collapsed_sections": [],
      "authorship_tag": "ABX9TyMvtY+QEzT0TgRFvzDGqvDB",
      "include_colab_link": true
    },
    "kernelspec": {
      "name": "python3",
      "display_name": "Python 3"
    }
  },
  "cells": [
    {
      "cell_type": "markdown",
      "metadata": {
        "id": "view-in-github",
        "colab_type": "text"
      },
      "source": [
        "<a href=\"https://colab.research.google.com/github/jonfisik/Projects/blob/master/python/AlgebraLinearPython/5MatrizesInversasPython.ipynb\" target=\"_parent\"><img src=\"https://colab.research.google.com/assets/colab-badge.svg\" alt=\"Open In Colab\"/></a>"
      ]
    },
    {
      "cell_type": "code",
      "metadata": {
        "id": "xV4WtocFQ2U8"
      },
      "source": [
        "import numpy as np\r\n",
        "from numpy.linalg import det, inv"
      ],
      "execution_count": null,
      "outputs": []
    },
    {
      "cell_type": "code",
      "metadata": {
        "id": "8ijEFFODTDl0"
      },
      "source": [
        "''' Matrizes inversas '''"
      ],
      "execution_count": null,
      "outputs": []
    },
    {
      "cell_type": "code",
      "metadata": {
        "id": "Bed5N1tTSJVC"
      },
      "source": [
        "A = np.array([[1,-7,2],[4,2,7],[1,4,-1]])\r\n",
        "B = np.array([[1,1,2],[1,1,2],[3,-1,-1]])"
      ],
      "execution_count": null,
      "outputs": []
    },
    {
      "cell_type": "code",
      "metadata": {
        "id": "Br5QcKq3S6nd"
      },
      "source": [
        "A"
      ],
      "execution_count": null,
      "outputs": []
    },
    {
      "cell_type": "code",
      "metadata": {
        "id": "8PJ2SeviS7yE"
      },
      "source": [
        "B"
      ],
      "execution_count": null,
      "outputs": []
    },
    {
      "cell_type": "code",
      "metadata": {
        "id": "8quRkh6CS8p0"
      },
      "source": [
        "det(A) # det(A) é diferente de zero"
      ],
      "execution_count": null,
      "outputs": []
    },
    {
      "cell_type": "code",
      "metadata": {
        "id": "QQOzZQKmTKjF"
      },
      "source": [
        "inv_A = inv(A)\r\n",
        "inv_A"
      ],
      "execution_count": null,
      "outputs": []
    },
    {
      "cell_type": "code",
      "metadata": {
        "id": "P0MOxpQfT0xJ"
      },
      "source": [
        "A.dot(inv_A)"
      ],
      "execution_count": null,
      "outputs": []
    },
    {
      "cell_type": "code",
      "metadata": {
        "id": "kUmnTT5KT7zx"
      },
      "source": [
        "det(B) # Matriz B não admite inversa. B é uma matriz singular."
      ],
      "execution_count": null,
      "outputs": []
    },
    {
      "cell_type": "code",
      "metadata": {
        "id": "x3Z9yAA_UN4j"
      },
      "source": [
        "''' Propriedades das matrizes inversas '''\r\n",
        "# OBS: Essas matrizes não representam casos gerais\r\n",
        "A = np.array([[1,-2,3],[4,6,1],[0,2,1]])\r\n",
        "B = np.array([[0,2,5],[1,3,1],[0,1,-3]])"
      ],
      "execution_count": null,
      "outputs": []
    },
    {
      "cell_type": "code",
      "metadata": {
        "id": "W0PaX7NXVTDt"
      },
      "source": [
        "A"
      ],
      "execution_count": null,
      "outputs": []
    },
    {
      "cell_type": "code",
      "metadata": {
        "id": "Y4QyaxNrVnyE"
      },
      "source": [
        "B"
      ],
      "execution_count": null,
      "outputs": []
    },
    {
      "cell_type": "code",
      "metadata": {
        "id": "ykK_bRA6VoRU"
      },
      "source": [
        "det(A)"
      ],
      "execution_count": null,
      "outputs": []
    },
    {
      "cell_type": "code",
      "metadata": {
        "id": "5T54lvUTVpSE"
      },
      "source": [
        "det(B)"
      ],
      "execution_count": null,
      "outputs": []
    },
    {
      "cell_type": "code",
      "metadata": {
        "id": "z7-4YVuDVqvs"
      },
      "source": [
        "# 1) Caso A possua inversa A^-1, a inversa de A^-1 também existe"
      ],
      "execution_count": null,
      "outputs": []
    },
    {
      "cell_type": "code",
      "metadata": {
        "id": "E3IvC9t6WT3J"
      },
      "source": [
        "inv_A"
      ],
      "execution_count": null,
      "outputs": []
    },
    {
      "cell_type": "code",
      "metadata": {
        "id": "5p26bJiQWXOx"
      },
      "source": [
        "inv(inv(A))"
      ],
      "execution_count": null,
      "outputs": []
    },
    {
      "cell_type": "code",
      "metadata": {
        "id": "QfKTFoTkWaBC"
      },
      "source": [
        "# 2) Caso A e B possuem inversas, então A.B também possui inversa (A.B)^-1 = B^-1.A^-1"
      ],
      "execution_count": null,
      "outputs": []
    },
    {
      "cell_type": "code",
      "metadata": {
        "id": "xU4LYmYcW-M_"
      },
      "source": [
        "np.array_equal(inv(A.dot(B)), inv(B).dot(inv(A))) # Atenção"
      ],
      "execution_count": null,
      "outputs": []
    },
    {
      "cell_type": "code",
      "metadata": {
        "id": "ksqDBBDOXkP-"
      },
      "source": [
        "inv(A.dot(B))"
      ],
      "execution_count": null,
      "outputs": []
    },
    {
      "cell_type": "code",
      "metadata": {
        "id": "Auyn4bp-YI6z"
      },
      "source": [
        "inv(B).dot(inv(A))"
      ],
      "execution_count": null,
      "outputs": []
    },
    {
      "cell_type": "code",
      "metadata": {
        "id": "iCuQR5wxYPcT"
      },
      "source": [
        "# A inversa de A.T é igual a (inversa de A).T"
      ],
      "execution_count": null,
      "outputs": []
    },
    {
      "cell_type": "code",
      "metadata": {
        "id": "HW5J8HW0Yp06"
      },
      "source": [
        "inv(A.T)"
      ],
      "execution_count": null,
      "outputs": []
    },
    {
      "cell_type": "code",
      "metadata": {
        "id": "9A1Uk0DLYtUq"
      },
      "source": [
        "inv(A).T"
      ],
      "execution_count": null,
      "outputs": []
    },
    {
      "cell_type": "code",
      "metadata": {
        "id": "ZvxevNGMYvy6"
      },
      "source": [
        ""
      ],
      "execution_count": null,
      "outputs": []
    }
  ]
}