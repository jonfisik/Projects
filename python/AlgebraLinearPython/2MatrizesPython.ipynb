{
  "nbformat": 4,
  "nbformat_minor": 0,
  "metadata": {
    "colab": {
      "name": "2MatrizesPython.ipynb",
      "provenance": [],
      "collapsed_sections": [],
      "authorship_tag": "ABX9TyO2gJ8pnjfmAmGzc+1gtD6x",
      "include_colab_link": true
    },
    "kernelspec": {
      "name": "python3",
      "display_name": "Python 3"
    }
  },
  "cells": [
    {
      "cell_type": "markdown",
      "metadata": {
        "id": "view-in-github",
        "colab_type": "text"
      },
      "source": [
        "<a href=\"https://colab.research.google.com/github/jonfisik/Projects/blob/master/python/AlgebraLinearPython/2MatrizesPython.ipynb\" target=\"_parent\"><img src=\"https://colab.research.google.com/assets/colab-badge.svg\" alt=\"Open In Colab\"/></a>"
      ]
    },
    {
      "cell_type": "code",
      "metadata": {
        "id": "r0CDszVHgk7H"
      },
      "source": [
        "import numpy as np"
      ],
      "execution_count": 1,
      "outputs": []
    },
    {
      "cell_type": "code",
      "metadata": {
        "id": "uWw8n0eAh7BG"
      },
      "source": [
        "# Matrizes"
      ],
      "execution_count": 2,
      "outputs": []
    },
    {
      "cell_type": "code",
      "metadata": {
        "id": "ndv-aWUNiRcI",
        "colab": {
          "base_uri": "https://localhost:8080/"
        },
        "outputId": "742aea6e-36d5-49c7-f26b-e91158164cca"
      },
      "source": [
        "'''Matriz 2 x 2'''\n",
        "A = np.array([[2,-1],[0,4]])\n",
        "A"
      ],
      "execution_count": 8,
      "outputs": [
        {
          "output_type": "execute_result",
          "data": {
            "text/plain": [
              "array([[ 2, -1],\n",
              "       [ 0,  4]])"
            ]
          },
          "metadata": {
            "tags": []
          },
          "execution_count": 8
        }
      ]
    },
    {
      "cell_type": "code",
      "metadata": {
        "colab": {
          "base_uri": "https://localhost:8080/"
        },
        "id": "JhzrcILuPtDl",
        "outputId": "a1f080d2-ba38-4d36-8fa6-1d1d79c82b87"
      },
      "source": [
        "A.shape # retorna a propriedade da dimansão da matriz"
      ],
      "execution_count": 11,
      "outputs": [
        {
          "output_type": "execute_result",
          "data": {
            "text/plain": [
              "(2, 2)"
            ]
          },
          "metadata": {
            "tags": []
          },
          "execution_count": 11
        }
      ]
    },
    {
      "cell_type": "code",
      "metadata": {
        "id": "X1I4GL-5iSCg",
        "colab": {
          "base_uri": "https://localhost:8080/"
        },
        "outputId": "687d231b-06ff-4c93-a526-72854f0eeb79"
      },
      "source": [
        "'''Matriz 2 x 3'''\n",
        "B = np.array([[1,0,-4],[4,-3,2]])\n",
        "B"
      ],
      "execution_count": 14,
      "outputs": [
        {
          "output_type": "execute_result",
          "data": {
            "text/plain": [
              "array([[ 1,  0, -4],\n",
              "       [ 4, -3,  2]])"
            ]
          },
          "metadata": {
            "tags": []
          },
          "execution_count": 14
        }
      ]
    },
    {
      "cell_type": "code",
      "metadata": {
        "colab": {
          "base_uri": "https://localhost:8080/"
        },
        "id": "lZo7y_-eQFp0",
        "outputId": "c7a6e61a-4627-4dd9-935b-c1aad4549b00"
      },
      "source": [
        "B.shape"
      ],
      "execution_count": 15,
      "outputs": [
        {
          "output_type": "execute_result",
          "data": {
            "text/plain": [
              "(2, 3)"
            ]
          },
          "metadata": {
            "tags": []
          },
          "execution_count": 15
        }
      ]
    },
    {
      "cell_type": "code",
      "metadata": {
        "colab": {
          "base_uri": "https://localhost:8080/"
        },
        "id": "RNz_UaBjPbq-",
        "outputId": "0d2ace26-6f97-44e2-e7f9-03ec1e3654c4"
      },
      "source": [
        "C = np.array([[1,2,3],[4,5,6],[7,8,9]])\r\n",
        "C"
      ],
      "execution_count": 16,
      "outputs": [
        {
          "output_type": "execute_result",
          "data": {
            "text/plain": [
              "array([[1, 2, 3],\n",
              "       [4, 5, 6],\n",
              "       [7, 8, 9]])"
            ]
          },
          "metadata": {
            "tags": []
          },
          "execution_count": 16
        }
      ]
    },
    {
      "cell_type": "code",
      "metadata": {
        "colab": {
          "base_uri": "https://localhost:8080/"
        },
        "id": "UKbBRj3IQJRr",
        "outputId": "619f4b61-a3f2-4b6d-8d5d-88da120cc5ec"
      },
      "source": [
        "C.shape"
      ],
      "execution_count": 17,
      "outputs": [
        {
          "output_type": "execute_result",
          "data": {
            "text/plain": [
              "(3, 3)"
            ]
          },
          "metadata": {
            "tags": []
          },
          "execution_count": 17
        }
      ]
    },
    {
      "cell_type": "code",
      "metadata": {
        "id": "n2YyQ8Soiq8Q"
      },
      "source": [
        "# Matrizes - representação 2 (função np.matrix())"
      ],
      "execution_count": null,
      "outputs": []
    },
    {
      "cell_type": "code",
      "metadata": {
        "id": "v_UJQbFbjhwI"
      },
      "source": [
        "?np.matrix"
      ],
      "execution_count": null,
      "outputs": []
    },
    {
      "cell_type": "code",
      "metadata": {
        "id": "218PIQUEjpnx",
        "colab": {
          "base_uri": "https://localhost:8080/"
        },
        "outputId": "1c6c26fd-5a94-4b6a-fa35-f5c2fd722690"
      },
      "source": [
        "C = np.matrix('1 2; 3 4')\n",
        "C"
      ],
      "execution_count": null,
      "outputs": [
        {
          "output_type": "execute_result",
          "data": {
            "text/plain": [
              "matrix([[1, 2],\n",
              "        [3, 4]])"
            ]
          },
          "metadata": {
            "tags": []
          },
          "execution_count": 25
        }
      ]
    },
    {
      "cell_type": "code",
      "metadata": {
        "id": "JVPxP3PElImz",
        "colab": {
          "base_uri": "https://localhost:8080/"
        },
        "outputId": "b1b40821-fd48-415b-f6e4-76c1ad115c37"
      },
      "source": [
        "type(C)"
      ],
      "execution_count": null,
      "outputs": [
        {
          "output_type": "execute_result",
          "data": {
            "text/plain": [
              "numpy.matrix"
            ]
          },
          "metadata": {
            "tags": []
          },
          "execution_count": 26
        }
      ]
    },
    {
      "cell_type": "code",
      "metadata": {
        "id": "nR91HTEBjvav",
        "colab": {
          "base_uri": "https://localhost:8080/"
        },
        "outputId": "90c61640-062d-4c28-a25d-c85d4aa26cf2"
      },
      "source": [
        "np.matrix([[1,2],[3,4]])"
      ],
      "execution_count": null,
      "outputs": [
        {
          "output_type": "execute_result",
          "data": {
            "text/plain": [
              "matrix([[1, 2],\n",
              "        [3, 4]])"
            ]
          },
          "metadata": {
            "tags": []
          },
          "execution_count": 27
        }
      ]
    },
    {
      "cell_type": "code",
      "metadata": {
        "id": "dhwOhlhJkySU",
        "colab": {
          "base_uri": "https://localhost:8080/"
        },
        "outputId": "9f131f36-7281-4c4a-cf40-db208885db61"
      },
      "source": [
        "type(C)"
      ],
      "execution_count": null,
      "outputs": [
        {
          "output_type": "execute_result",
          "data": {
            "text/plain": [
              "numpy.matrix"
            ]
          },
          "metadata": {
            "tags": []
          },
          "execution_count": 28
        }
      ]
    },
    {
      "cell_type": "code",
      "metadata": {
        "id": "BR4KsixzlDJ0"
      },
      "source": [
        "# Tipos de matrizes no python\n"
      ],
      "execution_count": null,
      "outputs": []
    },
    {
      "cell_type": "code",
      "metadata": {
        "id": "J80YgmEL6hSM",
        "colab": {
          "base_uri": "https://localhost:8080/"
        },
        "outputId": "371bbd1d-e872-430f-e2ed-cc3c7c719821"
      },
      "source": [
        "'''Matriz linha'''\n",
        "L1 = np.array([3,4,5])\n",
        "L1"
      ],
      "execution_count": null,
      "outputs": [
        {
          "output_type": "execute_result",
          "data": {
            "text/plain": [
              "array([3, 4, 5])"
            ]
          },
          "metadata": {
            "tags": []
          },
          "execution_count": 30
        }
      ]
    },
    {
      "cell_type": "code",
      "metadata": {
        "id": "VfS_xqzI6wFw",
        "colab": {
          "base_uri": "https://localhost:8080/"
        },
        "outputId": "6bc78832-3985-412c-a7f5-8eccdd819a22"
      },
      "source": [
        "L2 = np.array([[3,4,6]]) \n",
        "L2"
      ],
      "execution_count": null,
      "outputs": [
        {
          "output_type": "execute_result",
          "data": {
            "text/plain": [
              "array([[3, 4, 6]])"
            ]
          },
          "metadata": {
            "tags": []
          },
          "execution_count": 35
        }
      ]
    },
    {
      "cell_type": "code",
      "metadata": {
        "colab": {
          "base_uri": "https://localhost:8080/"
        },
        "id": "0Yq7bXtmaXaU",
        "outputId": "51777071-80dd-45d2-e711-b5d885e6d887"
      },
      "source": [
        "L3 = np.array([[0,0,0,0]])\r\n",
        "L3"
      ],
      "execution_count": null,
      "outputs": [
        {
          "output_type": "execute_result",
          "data": {
            "text/plain": [
              "array([[0, 0, 0, 0]])"
            ]
          },
          "metadata": {
            "tags": []
          },
          "execution_count": 36
        }
      ]
    },
    {
      "cell_type": "code",
      "metadata": {
        "id": "2T6_5lA86yGY",
        "colab": {
          "base_uri": "https://localhost:8080/"
        },
        "outputId": "ebcfc287-5be5-424a-de6d-c4f41583818b"
      },
      "source": [
        "L1.shape # vetor"
      ],
      "execution_count": null,
      "outputs": [
        {
          "output_type": "execute_result",
          "data": {
            "text/plain": [
              "(3,)"
            ]
          },
          "metadata": {
            "tags": []
          },
          "execution_count": 32
        }
      ]
    },
    {
      "cell_type": "code",
      "metadata": {
        "id": "UsCfviBG7ZRJ",
        "colab": {
          "base_uri": "https://localhost:8080/"
        },
        "outputId": "0d10dc0d-50f1-48c1-ed9b-5ddda84c8b4a"
      },
      "source": [
        "L2.shape # matriz"
      ],
      "execution_count": null,
      "outputs": [
        {
          "output_type": "execute_result",
          "data": {
            "text/plain": [
              "(1, 3)"
            ]
          },
          "metadata": {
            "tags": []
          },
          "execution_count": 37
        }
      ]
    },
    {
      "cell_type": "code",
      "metadata": {
        "colab": {
          "base_uri": "https://localhost:8080/"
        },
        "id": "vgvDN2wwavI7",
        "outputId": "6c8dc386-dea8-4e7c-d6a4-0909b7c487d6"
      },
      "source": [
        "L3.shape # matriz"
      ],
      "execution_count": null,
      "outputs": [
        {
          "output_type": "execute_result",
          "data": {
            "text/plain": [
              "(1, 4)"
            ]
          },
          "metadata": {
            "tags": []
          },
          "execution_count": 38
        }
      ]
    },
    {
      "cell_type": "code",
      "metadata": {
        "id": "Dge3RZqp7bE3",
        "colab": {
          "base_uri": "https://localhost:8080/"
        },
        "outputId": "35f5bc7f-aad0-441d-c36d-0a0caff87952"
      },
      "source": [
        "''' Matriz coluna'''\n",
        "C1 = np.array([[1],[3],[7]]) # cada colchete é uma linha. E cada casa depois da virgula uma coluna\n",
        "C1"
      ],
      "execution_count": null,
      "outputs": [
        {
          "output_type": "execute_result",
          "data": {
            "text/plain": [
              "array([[1],\n",
              "       [3],\n",
              "       [7]])"
            ]
          },
          "metadata": {
            "tags": []
          },
          "execution_count": 40
        }
      ]
    },
    {
      "cell_type": "code",
      "metadata": {
        "id": "zL5AGkxl8G5O",
        "colab": {
          "base_uri": "https://localhost:8080/"
        },
        "outputId": "69a86988-13d2-4f7c-eee5-3fa25dc8a7ec"
      },
      "source": [
        "C1.shape # (linha,coluna)"
      ],
      "execution_count": null,
      "outputs": [
        {
          "output_type": "execute_result",
          "data": {
            "text/plain": [
              "(3, 1)"
            ]
          },
          "metadata": {
            "tags": []
          },
          "execution_count": 41
        }
      ]
    },
    {
      "cell_type": "code",
      "metadata": {
        "colab": {
          "base_uri": "https://localhost:8080/"
        },
        "id": "cf-tp9owa5Vh",
        "outputId": "29b5b978-c489-45de-f8d6-64284afa493a"
      },
      "source": [
        "C2 = np.array([[0],[0],[0],[0]])\r\n",
        "C2"
      ],
      "execution_count": null,
      "outputs": [
        {
          "output_type": "execute_result",
          "data": {
            "text/plain": [
              "array([[0],\n",
              "       [0],\n",
              "       [0],\n",
              "       [0]])"
            ]
          },
          "metadata": {
            "tags": []
          },
          "execution_count": 43
        }
      ]
    },
    {
      "cell_type": "code",
      "metadata": {
        "id": "TPtMeFhA8qSk",
        "colab": {
          "base_uri": "https://localhost:8080/"
        },
        "outputId": "a4a84789-d446-4005-e62c-56930f142dda"
      },
      "source": [
        "''' Matriz nula '''\n",
        "N = np.zeros([2,2]) # função zeros\n",
        "N"
      ],
      "execution_count": null,
      "outputs": [
        {
          "output_type": "execute_result",
          "data": {
            "text/plain": [
              "array([[0., 0.],\n",
              "       [0., 0.]])"
            ]
          },
          "metadata": {
            "tags": []
          },
          "execution_count": 44
        }
      ]
    },
    {
      "cell_type": "code",
      "metadata": {
        "id": "p0Z4Dpnj9Ryv"
      },
      "source": [
        "?np.zeros"
      ],
      "execution_count": null,
      "outputs": []
    },
    {
      "cell_type": "code",
      "metadata": {
        "id": "SRNHxpxN9aya",
        "colab": {
          "base_uri": "https://localhost:8080/"
        },
        "outputId": "f4c93cc7-4709-4aa1-f1ec-b2a25b0229ed"
      },
      "source": [
        "N1 = np.zeros((2,2)) # paranteses\n",
        "N1"
      ],
      "execution_count": null,
      "outputs": [
        {
          "output_type": "execute_result",
          "data": {
            "text/plain": [
              "array([[0., 0.],\n",
              "       [0., 0.]])"
            ]
          },
          "metadata": {
            "tags": []
          },
          "execution_count": 45
        }
      ]
    },
    {
      "cell_type": "code",
      "metadata": {
        "id": "LRPh6mMe9kvb",
        "colab": {
          "base_uri": "https://localhost:8080/"
        },
        "outputId": "2b41eb46-aaba-4b18-8a15-ea495ff32f55"
      },
      "source": [
        "N2 = np.zeros([5,5]) # colchetes\n",
        "N2"
      ],
      "execution_count": null,
      "outputs": [
        {
          "output_type": "execute_result",
          "data": {
            "text/plain": [
              "array([[0., 0., 0., 0., 0.],\n",
              "       [0., 0., 0., 0., 0.],\n",
              "       [0., 0., 0., 0., 0.],\n",
              "       [0., 0., 0., 0., 0.],\n",
              "       [0., 0., 0., 0., 0.]])"
            ]
          },
          "metadata": {
            "tags": []
          },
          "execution_count": 47
        }
      ]
    },
    {
      "cell_type": "code",
      "metadata": {
        "id": "FCpou7-7-AK6",
        "colab": {
          "base_uri": "https://localhost:8080/"
        },
        "outputId": "60cd0215-ba61-4b04-ccd6-a33188235c13"
      },
      "source": [
        "''' Matriz diagonal'''\n",
        "D = np.diag([1,2,3,6,5]) # elementos da diagonal principal\n",
        "D"
      ],
      "execution_count": null,
      "outputs": [
        {
          "output_type": "execute_result",
          "data": {
            "text/plain": [
              "array([[1, 0, 0, 0, 0],\n",
              "       [0, 2, 0, 0, 0],\n",
              "       [0, 0, 3, 0, 0],\n",
              "       [0, 0, 0, 6, 0],\n",
              "       [0, 0, 0, 0, 5]])"
            ]
          },
          "metadata": {
            "tags": []
          },
          "execution_count": 58
        }
      ]
    },
    {
      "cell_type": "code",
      "metadata": {
        "colab": {
          "base_uri": "https://localhost:8080/"
        },
        "id": "eYlB8s-2c-ak",
        "outputId": "1811b48c-d123-425e-acf3-a13f4327f5f5"
      },
      "source": [
        "D.shape"
      ],
      "execution_count": null,
      "outputs": [
        {
          "output_type": "execute_result",
          "data": {
            "text/plain": [
              "(5, 5)"
            ]
          },
          "metadata": {
            "tags": []
          },
          "execution_count": 59
        }
      ]
    },
    {
      "cell_type": "code",
      "metadata": {
        "colab": {
          "base_uri": "https://localhost:8080/"
        },
        "id": "9CRc4yWXcCL-",
        "outputId": "62bc0f92-b892-4dd8-d59c-f09fb1f6791e"
      },
      "source": [
        "E = np.diag([1,1,1,1]) # Matriz identidade\r\n",
        "E"
      ],
      "execution_count": null,
      "outputs": [
        {
          "output_type": "execute_result",
          "data": {
            "text/plain": [
              "array([[1, 0, 0, 0],\n",
              "       [0, 1, 0, 0],\n",
              "       [0, 0, 1, 0],\n",
              "       [0, 0, 0, 1]])"
            ]
          },
          "metadata": {
            "tags": []
          },
          "execution_count": 60
        }
      ]
    },
    {
      "cell_type": "code",
      "metadata": {
        "colab": {
          "base_uri": "https://localhost:8080/"
        },
        "id": "CgbLHKYIdCW7",
        "outputId": "f359599c-bff7-4d52-b6f9-cc04db6b62b4"
      },
      "source": [
        "E.shape"
      ],
      "execution_count": null,
      "outputs": [
        {
          "output_type": "execute_result",
          "data": {
            "text/plain": [
              "(4, 4)"
            ]
          },
          "metadata": {
            "tags": []
          },
          "execution_count": 61
        }
      ]
    },
    {
      "cell_type": "code",
      "metadata": {
        "colab": {
          "base_uri": "https://localhost:8080/"
        },
        "id": "TlZMKRfHcnV0",
        "outputId": "ff31ed50-55cd-42b0-f6c7-c8d433fe3923"
      },
      "source": [
        "F = np.diag((1,1,1))\r\n",
        "F"
      ],
      "execution_count": null,
      "outputs": [
        {
          "output_type": "execute_result",
          "data": {
            "text/plain": [
              "array([[1, 0, 0],\n",
              "       [0, 1, 0],\n",
              "       [0, 0, 1]])"
            ]
          },
          "metadata": {
            "tags": []
          },
          "execution_count": 62
        }
      ]
    },
    {
      "cell_type": "code",
      "metadata": {
        "colab": {
          "base_uri": "https://localhost:8080/"
        },
        "id": "p6DTYnJpdGAD",
        "outputId": "60edde23-65c7-48a9-f869-630d94865b94"
      },
      "source": [
        "F.shape"
      ],
      "execution_count": null,
      "outputs": [
        {
          "output_type": "execute_result",
          "data": {
            "text/plain": [
              "(3, 3)"
            ]
          },
          "metadata": {
            "tags": []
          },
          "execution_count": 63
        }
      ]
    },
    {
      "cell_type": "code",
      "metadata": {
        "id": "LUKZ1-x5-84N",
        "colab": {
          "base_uri": "https://localhost:8080/"
        },
        "outputId": "c5d9299e-2d7f-4ffe-e5c0-a5c3a98adad7"
      },
      "source": [
        "'''Matriz identidade'''\n",
        "I = np.eye(4,4)\n",
        "I"
      ],
      "execution_count": null,
      "outputs": [
        {
          "output_type": "execute_result",
          "data": {
            "text/plain": [
              "array([[1., 0., 0., 0.],\n",
              "       [0., 1., 0., 0.],\n",
              "       [0., 0., 1., 0.],\n",
              "       [0., 0., 0., 1.]])"
            ]
          },
          "metadata": {
            "tags": []
          },
          "execution_count": 64
        }
      ]
    },
    {
      "cell_type": "code",
      "metadata": {
        "colab": {
          "base_uri": "https://localhost:8080/"
        },
        "id": "-uAQdT05dKnD",
        "outputId": "850c4a16-87f3-4edd-a0c9-0d10eb954ec2"
      },
      "source": [
        "I.shape"
      ],
      "execution_count": null,
      "outputs": [
        {
          "output_type": "execute_result",
          "data": {
            "text/plain": [
              "(4, 4)"
            ]
          },
          "metadata": {
            "tags": []
          },
          "execution_count": 65
        }
      ]
    },
    {
      "cell_type": "code",
      "metadata": {
        "id": "b_Wh8IU7_zy2",
        "colab": {
          "base_uri": "https://localhost:8080/"
        },
        "outputId": "30436264-5ee0-4acb-8b80-13363d36ee07"
      },
      "source": [
        "I1 = np.eye(7)\n",
        "I1"
      ],
      "execution_count": null,
      "outputs": [
        {
          "output_type": "execute_result",
          "data": {
            "text/plain": [
              "array([[1., 0., 0., 0., 0., 0., 0.],\n",
              "       [0., 1., 0., 0., 0., 0., 0.],\n",
              "       [0., 0., 1., 0., 0., 0., 0.],\n",
              "       [0., 0., 0., 1., 0., 0., 0.],\n",
              "       [0., 0., 0., 0., 1., 0., 0.],\n",
              "       [0., 0., 0., 0., 0., 1., 0.],\n",
              "       [0., 0., 0., 0., 0., 0., 1.]])"
            ]
          },
          "metadata": {
            "tags": []
          },
          "execution_count": 67
        }
      ]
    },
    {
      "cell_type": "code",
      "metadata": {
        "colab": {
          "base_uri": "https://localhost:8080/"
        },
        "id": "QbvT6vhzdWTC",
        "outputId": "62824cd8-7413-4d30-d0e6-8ded23d3973c"
      },
      "source": [
        "I1.shape"
      ],
      "execution_count": null,
      "outputs": [
        {
          "output_type": "execute_result",
          "data": {
            "text/plain": [
              "(7, 7)"
            ]
          },
          "metadata": {
            "tags": []
          },
          "execution_count": 69
        }
      ]
    },
    {
      "cell_type": "code",
      "metadata": {
        "id": "FeN_bnffdbVi"
      },
      "source": [
        "?np.eye"
      ],
      "execution_count": null,
      "outputs": []
    },
    {
      "cell_type": "code",
      "metadata": {
        "colab": {
          "base_uri": "https://localhost:8080/"
        },
        "id": "50vJlwFKdrnZ",
        "outputId": "0b30bbe0-83be-47f2-f2fc-9282bf8bcc55"
      },
      "source": [
        "I2 = np.eye(2) # O elemento é real\r\n",
        "I2"
      ],
      "execution_count": null,
      "outputs": [
        {
          "output_type": "execute_result",
          "data": {
            "text/plain": [
              "array([[1., 0.],\n",
              "       [0., 1.]])"
            ]
          },
          "metadata": {
            "tags": []
          },
          "execution_count": 74
        }
      ]
    },
    {
      "cell_type": "code",
      "metadata": {
        "id": "VnZ3B282AN8t"
      },
      "source": [
        "# Transposição de matrizes"
      ],
      "execution_count": null,
      "outputs": []
    },
    {
      "cell_type": "code",
      "metadata": {
        "id": "Tdt8wM1feTdk"
      },
      "source": [
        "S = np.array([[1,4,3],[4,2,5],[3,5,0]])\n",
        "A = np.array([[1,2,3,6],[9,7,4,6]])\n",
        "B = np.array([[8,5,3,3],[1,0,1,8]])"
      ],
      "execution_count": null,
      "outputs": []
    },
    {
      "cell_type": "code",
      "metadata": {
        "id": "RY7tC1ysfotv",
        "colab": {
          "base_uri": "https://localhost:8080/",
          "height": 35
        },
        "outputId": "ab39034a-dc84-4cd1-b93b-ee59c997368a"
      },
      "source": [
        "''' método para transpor matrizes np.transpose(matriz) '''"
      ],
      "execution_count": null,
      "outputs": [
        {
          "output_type": "execute_result",
          "data": {
            "application/vnd.google.colaboratory.intrinsic+json": {
              "type": "string"
            },
            "text/plain": [
              "' método para transpor matrizes np.transpose(matriz) '"
            ]
          },
          "metadata": {
            "tags": []
          },
          "execution_count": 77
        }
      ]
    },
    {
      "cell_type": "code",
      "metadata": {
        "id": "jmnPZoZze9PY",
        "colab": {
          "base_uri": "https://localhost:8080/"
        },
        "outputId": "6b3ba174-b05a-4bf5-ce9e-8fb0827bf39b"
      },
      "source": [
        "S # S é simétrica"
      ],
      "execution_count": null,
      "outputs": [
        {
          "output_type": "execute_result",
          "data": {
            "text/plain": [
              "array([[1, 4, 3],\n",
              "       [4, 2, 5],\n",
              "       [3, 5, 0]])"
            ]
          },
          "metadata": {
            "tags": []
          },
          "execution_count": 80
        }
      ]
    },
    {
      "cell_type": "code",
      "metadata": {
        "id": "akYsHG3xfCcg",
        "colab": {
          "base_uri": "https://localhost:8080/"
        },
        "outputId": "24a5b134-ea52-4c90-c1cb-540223bae09d"
      },
      "source": [
        "np.transpose(S)"
      ],
      "execution_count": null,
      "outputs": [
        {
          "output_type": "execute_result",
          "data": {
            "text/plain": [
              "array([[1, 4, 3],\n",
              "       [4, 2, 5],\n",
              "       [3, 5, 0]])"
            ]
          },
          "metadata": {
            "tags": []
          },
          "execution_count": 81
        }
      ]
    },
    {
      "cell_type": "code",
      "metadata": {
        "id": "aDP0Nqv-fLjI",
        "colab": {
          "base_uri": "https://localhost:8080/"
        },
        "outputId": "e15e0867-4e70-4d11-f94e-399752af7a8a"
      },
      "source": [
        "A"
      ],
      "execution_count": null,
      "outputs": [
        {
          "output_type": "execute_result",
          "data": {
            "text/plain": [
              "array([[1, 2, 3, 6],\n",
              "       [9, 7, 4, 6]])"
            ]
          },
          "metadata": {
            "tags": []
          },
          "execution_count": 82
        }
      ]
    },
    {
      "cell_type": "code",
      "metadata": {
        "id": "hZHZYq0yfM4_",
        "colab": {
          "base_uri": "https://localhost:8080/"
        },
        "outputId": "888e314a-907c-4c79-c765-f950774cba75"
      },
      "source": [
        "np.transpose(A)"
      ],
      "execution_count": null,
      "outputs": [
        {
          "output_type": "execute_result",
          "data": {
            "text/plain": [
              "array([[1, 9],\n",
              "       [2, 7],\n",
              "       [3, 4],\n",
              "       [6, 6]])"
            ]
          },
          "metadata": {
            "tags": []
          },
          "execution_count": 83
        }
      ]
    },
    {
      "cell_type": "code",
      "metadata": {
        "id": "8at289D1fR18",
        "colab": {
          "base_uri": "https://localhost:8080/"
        },
        "outputId": "94bc0271-ae4c-45a7-8ad8-4777672bc477"
      },
      "source": [
        "B"
      ],
      "execution_count": null,
      "outputs": [
        {
          "output_type": "execute_result",
          "data": {
            "text/plain": [
              "array([[8, 5, 3, 3],\n",
              "       [1, 0, 1, 8]])"
            ]
          },
          "metadata": {
            "tags": []
          },
          "execution_count": 84
        }
      ]
    },
    {
      "cell_type": "code",
      "metadata": {
        "id": "V_aRuGXVfVn4",
        "colab": {
          "base_uri": "https://localhost:8080/"
        },
        "outputId": "b2dc49da-9afb-4bb7-9369-cfcafa38b373"
      },
      "source": [
        "np.transpose(B)"
      ],
      "execution_count": null,
      "outputs": [
        {
          "output_type": "execute_result",
          "data": {
            "text/plain": [
              "array([[8, 1],\n",
              "       [5, 0],\n",
              "       [3, 1],\n",
              "       [3, 8]])"
            ]
          },
          "metadata": {
            "tags": []
          },
          "execution_count": 85
        }
      ]
    },
    {
      "cell_type": "code",
      "metadata": {
        "id": "j7deiufdfaWP",
        "colab": {
          "base_uri": "https://localhost:8080/"
        },
        "outputId": "49635c4b-3c96-4b1e-f116-a939014612ae"
      },
      "source": [
        "''' método para transpor matrizes matriz.T '''\n",
        "A.T"
      ],
      "execution_count": null,
      "outputs": [
        {
          "output_type": "execute_result",
          "data": {
            "text/plain": [
              "array([[1, 9],\n",
              "       [2, 7],\n",
              "       [3, 4],\n",
              "       [6, 6]])"
            ]
          },
          "metadata": {
            "tags": []
          },
          "execution_count": 86
        }
      ]
    },
    {
      "cell_type": "code",
      "metadata": {
        "id": "tU3aBJ-dgEQe",
        "colab": {
          "base_uri": "https://localhost:8080/"
        },
        "outputId": "b2b5b31a-15b8-489d-9402-6dd39273df5e"
      },
      "source": [
        "B.T"
      ],
      "execution_count": null,
      "outputs": [
        {
          "output_type": "execute_result",
          "data": {
            "text/plain": [
              "array([[8, 1],\n",
              "       [5, 0],\n",
              "       [3, 1],\n",
              "       [3, 8]])"
            ]
          },
          "metadata": {
            "tags": []
          },
          "execution_count": 87
        }
      ]
    },
    {
      "cell_type": "code",
      "metadata": {
        "id": "08nMo9mJgJJe"
      },
      "source": [
        " ''' Testando propriedade da transposição de matrizes '''"
      ],
      "execution_count": null,
      "outputs": []
    },
    {
      "cell_type": "code",
      "metadata": {
        "id": "Wixg91CihGqt",
        "colab": {
          "base_uri": "https://localhost:8080/"
        },
        "outputId": "0fa7998c-7318-431a-d840-9782256b0060"
      },
      "source": [
        "# i) Simetria de matrizes\n",
        "np.array_equal(S,S.T)"
      ],
      "execution_count": null,
      "outputs": [
        {
          "output_type": "execute_result",
          "data": {
            "text/plain": [
              "True"
            ]
          },
          "metadata": {
            "tags": []
          },
          "execution_count": 88
        }
      ]
    },
    {
      "cell_type": "code",
      "metadata": {
        "id": "4gt3CLIfhUtU",
        "colab": {
          "base_uri": "https://localhost:8080/"
        },
        "outputId": "67d011e4-5f7a-462a-9311-651fecee0afe"
      },
      "source": [
        "# ii) Transposta da transposta\n",
        "np.array_equal(A.T.T, A)"
      ],
      "execution_count": null,
      "outputs": [
        {
          "output_type": "execute_result",
          "data": {
            "text/plain": [
              "True"
            ]
          },
          "metadata": {
            "tags": []
          },
          "execution_count": 89
        }
      ]
    },
    {
      "cell_type": "code",
      "metadata": {
        "id": "8UgNFEmIhq1q",
        "colab": {
          "base_uri": "https://localhost:8080/"
        },
        "outputId": "dcd9f987-c16d-40f6-c20e-8dd3af4a1bc3"
      },
      "source": [
        "# iii) Soma de transposta\n",
        "np.array_equal((A+B).T, A.T+B.T)"
      ],
      "execution_count": null,
      "outputs": [
        {
          "output_type": "execute_result",
          "data": {
            "text/plain": [
              "True"
            ]
          },
          "metadata": {
            "tags": []
          },
          "execution_count": 90
        }
      ]
    },
    {
      "cell_type": "code",
      "metadata": {
        "id": "c0mqhif1iF5C",
        "colab": {
          "base_uri": "https://localhost:8080/"
        },
        "outputId": "36b52e71-8b6b-442e-8f4d-0dedffe00110"
      },
      "source": [
        "# iv) transposta de uma matriz multipplicada por um escalar\n",
        "k = 2\n",
        "np.array_equal((k*B).T, k*(B.T))"
      ],
      "execution_count": null,
      "outputs": [
        {
          "output_type": "execute_result",
          "data": {
            "text/plain": [
              "True"
            ]
          },
          "metadata": {
            "tags": []
          },
          "execution_count": 92
        }
      ]
    },
    {
      "cell_type": "code",
      "metadata": {
        "id": "R4W011OMimmZ"
      },
      "source": [
        "# Slicing de matrizes - indexação de matrizes - parte 1"
      ],
      "execution_count": null,
      "outputs": []
    },
    {
      "cell_type": "code",
      "metadata": {
        "id": "pEjTkE9EjO5R"
      },
      "source": [
        "A = np.array([[2,4,6],[4,7,1],[9,3,8]])"
      ],
      "execution_count": 18,
      "outputs": []
    },
    {
      "cell_type": "code",
      "metadata": {
        "id": "IgHrB9xzjrif",
        "colab": {
          "base_uri": "https://localhost:8080/"
        },
        "outputId": "3a5193b4-8a01-4d07-a941-cc3f68b54c4e"
      },
      "source": [
        "A"
      ],
      "execution_count": 19,
      "outputs": [
        {
          "output_type": "execute_result",
          "data": {
            "text/plain": [
              "array([[2, 4, 6],\n",
              "       [4, 7, 1],\n",
              "       [9, 3, 8]])"
            ]
          },
          "metadata": {
            "tags": []
          },
          "execution_count": 19
        }
      ]
    },
    {
      "cell_type": "code",
      "metadata": {
        "id": "H7w4UoiDjso3",
        "colab": {
          "base_uri": "https://localhost:8080/"
        },
        "outputId": "989c4ed4-7dae-4f46-a272-f56d05917728"
      },
      "source": [
        "''' retorna a dimensão da matriz '''\n",
        "A.shape"
      ],
      "execution_count": 20,
      "outputs": [
        {
          "output_type": "execute_result",
          "data": {
            "text/plain": [
              "(3, 3)"
            ]
          },
          "metadata": {
            "tags": []
          },
          "execution_count": 20
        }
      ]
    },
    {
      "cell_type": "code",
      "metadata": {
        "id": "ZzuW2sTHj72e",
        "colab": {
          "base_uri": "https://localhost:8080/"
        },
        "outputId": "6b799212-d0f3-422c-ac4a-0a5f017d31dd"
      },
      "source": [
        "''' Slicing - fatiamento'''\n",
        "A[:]"
      ],
      "execution_count": 21,
      "outputs": [
        {
          "output_type": "execute_result",
          "data": {
            "text/plain": [
              "array([[2, 4, 6],\n",
              "       [4, 7, 1],\n",
              "       [9, 3, 8]])"
            ]
          },
          "metadata": {
            "tags": []
          },
          "execution_count": 21
        }
      ]
    },
    {
      "cell_type": "code",
      "metadata": {
        "id": "bJNKCfkbkLxG",
        "colab": {
          "base_uri": "https://localhost:8080/"
        },
        "outputId": "fc2b6a91-6713-4508-9e91-330e90246b79"
      },
      "source": [
        "''' Slincing Alternativo'''\r\n",
        "A[:,:]"
      ],
      "execution_count": 23,
      "outputs": [
        {
          "output_type": "execute_result",
          "data": {
            "text/plain": [
              "array([[2, 4, 6],\n",
              "       [4, 7, 1],\n",
              "       [9, 3, 8]])"
            ]
          },
          "metadata": {
            "tags": []
          },
          "execution_count": 23
        }
      ]
    },
    {
      "cell_type": "code",
      "metadata": {
        "id": "r_VvguaYkXPW",
        "colab": {
          "base_uri": "https://localhost:8080/"
        },
        "outputId": "062580c2-25a7-4dc2-9864-ea80e3f0062f"
      },
      "source": [
        "A[1,:] # linha 1 e todas as colunas"
      ],
      "execution_count": 24,
      "outputs": [
        {
          "output_type": "execute_result",
          "data": {
            "text/plain": [
              "array([4, 7, 1])"
            ]
          },
          "metadata": {
            "tags": []
          },
          "execution_count": 24
        }
      ]
    },
    {
      "cell_type": "code",
      "metadata": {
        "id": "i1dyh4QUkmW8",
        "colab": {
          "base_uri": "https://localhost:8080/"
        },
        "outputId": "27f27de7-a74b-4f89-f7c3-eb1faefa0340"
      },
      "source": [
        "A[2,:] # linha 1 e todas as colunas"
      ],
      "execution_count": 25,
      "outputs": [
        {
          "output_type": "execute_result",
          "data": {
            "text/plain": [
              "array([9, 3, 8])"
            ]
          },
          "metadata": {
            "tags": []
          },
          "execution_count": 25
        }
      ]
    },
    {
      "cell_type": "code",
      "metadata": {
        "id": "80eogtbPktAE",
        "colab": {
          "base_uri": "https://localhost:8080/"
        },
        "outputId": "b579f2f9-911f-4ab9-bae0-a9de710a3a78"
      },
      "source": [
        "A[:,0] # Coluna 0 e todas as linhas"
      ],
      "execution_count": 26,
      "outputs": [
        {
          "output_type": "execute_result",
          "data": {
            "text/plain": [
              "array([2, 4, 9])"
            ]
          },
          "metadata": {
            "tags": []
          },
          "execution_count": 26
        }
      ]
    },
    {
      "cell_type": "code",
      "metadata": {
        "id": "j5XySRqqkxKk",
        "colab": {
          "base_uri": "https://localhost:8080/"
        },
        "outputId": "d298195b-0e7d-4f9b-9ab4-9864add75a70"
      },
      "source": [
        "A[1,1] # um elemento, linha 1 coluna 1"
      ],
      "execution_count": 37,
      "outputs": [
        {
          "output_type": "execute_result",
          "data": {
            "text/plain": [
              "7"
            ]
          },
          "metadata": {
            "tags": []
          },
          "execution_count": 37
        }
      ]
    },
    {
      "cell_type": "code",
      "metadata": {
        "colab": {
          "base_uri": "https://localhost:8080/"
        },
        "id": "KN76flnhRb8y",
        "outputId": "74f0501d-c000-4e5d-8401-c7164274002f"
      },
      "source": [
        "A[2,1] # Linha 3 coluna 2 - Em python linha 2 coluna 1"
      ],
      "execution_count": 39,
      "outputs": [
        {
          "output_type": "execute_result",
          "data": {
            "text/plain": [
              "3"
            ]
          },
          "metadata": {
            "tags": []
          },
          "execution_count": 39
        }
      ]
    },
    {
      "cell_type": "code",
      "metadata": {
        "id": "zuEXFlnClAts"
      },
      "source": [
        "J = A # J é uma referência de A e não uma cópia"
      ],
      "execution_count": 40,
      "outputs": []
    },
    {
      "cell_type": "code",
      "metadata": {
        "id": "1vf8aTbIltWW",
        "colab": {
          "base_uri": "https://localhost:8080/"
        },
        "outputId": "fe39cf02-04d3-4a74-9b67-2cdd3364107c"
      },
      "source": [
        "J"
      ],
      "execution_count": 41,
      "outputs": [
        {
          "output_type": "execute_result",
          "data": {
            "text/plain": [
              "array([[ 2,  4, 19],\n",
              "       [ 4,  7,  1],\n",
              "       [ 9,  3,  8]])"
            ]
          },
          "metadata": {
            "tags": []
          },
          "execution_count": 41
        }
      ]
    },
    {
      "cell_type": "code",
      "metadata": {
        "id": "-PgMRrhqlvbz"
      },
      "source": [
        "J[0,2] = 19 # Alterar valor da matriz J"
      ],
      "execution_count": 42,
      "outputs": []
    },
    {
      "cell_type": "code",
      "metadata": {
        "id": "OL5wddcJl526",
        "colab": {
          "base_uri": "https://localhost:8080/"
        },
        "outputId": "8f6d842e-6753-4430-9366-19a744eddfa6"
      },
      "source": [
        "J"
      ],
      "execution_count": 43,
      "outputs": [
        {
          "output_type": "execute_result",
          "data": {
            "text/plain": [
              "array([[ 2,  4, 19],\n",
              "       [ 4,  7,  1],\n",
              "       [ 9,  3,  8]])"
            ]
          },
          "metadata": {
            "tags": []
          },
          "execution_count": 43
        }
      ]
    },
    {
      "cell_type": "code",
      "metadata": {
        "id": "oM8U0aQFl6ea",
        "colab": {
          "base_uri": "https://localhost:8080/"
        },
        "outputId": "92f077b3-10e3-4bb4-8e14-121a22e46269"
      },
      "source": [
        "A # A matriz \"A\" tbm é alterada"
      ],
      "execution_count": 45,
      "outputs": [
        {
          "output_type": "execute_result",
          "data": {
            "text/plain": [
              "array([[ 2,  4, 19],\n",
              "       [ 4,  7,  1],\n",
              "       [ 9,  3,  8]])"
            ]
          },
          "metadata": {
            "tags": []
          },
          "execution_count": 45
        }
      ]
    },
    {
      "cell_type": "code",
      "metadata": {
        "id": "b-N2lu4ImOba"
      },
      "source": [
        "# Cópia de matrizes"
      ],
      "execution_count": 46,
      "outputs": []
    },
    {
      "cell_type": "code",
      "metadata": {
        "id": "Qg4iLv7tmnCx"
      },
      "source": [
        "G =J.copy()"
      ],
      "execution_count": 47,
      "outputs": []
    },
    {
      "cell_type": "code",
      "metadata": {
        "id": "RyqsodlBmwUQ",
        "colab": {
          "base_uri": "https://localhost:8080/"
        },
        "outputId": "8bf0b1d0-d045-4567-8585-32327538b510"
      },
      "source": [
        "G # Cópia da matriz \"J\""
      ],
      "execution_count": 49,
      "outputs": [
        {
          "output_type": "execute_result",
          "data": {
            "text/plain": [
              "array([[ 2,  4, 19],\n",
              "       [ 4,  7,  1],\n",
              "       [ 9,  3,  8]])"
            ]
          },
          "metadata": {
            "tags": []
          },
          "execution_count": 49
        }
      ]
    },
    {
      "cell_type": "code",
      "metadata": {
        "id": "6TOZXSnYmxs4"
      },
      "source": [
        "G[2,2] = 63"
      ],
      "execution_count": 50,
      "outputs": []
    },
    {
      "cell_type": "code",
      "metadata": {
        "id": "cYpehRBPm4OR",
        "colab": {
          "base_uri": "https://localhost:8080/"
        },
        "outputId": "b2c2c4f7-5930-4ca9-c529-1b910619b519"
      },
      "source": [
        "G"
      ],
      "execution_count": 51,
      "outputs": [
        {
          "output_type": "execute_result",
          "data": {
            "text/plain": [
              "array([[ 2,  4, 19],\n",
              "       [ 4,  7,  1],\n",
              "       [ 9,  3, 63]])"
            ]
          },
          "metadata": {
            "tags": []
          },
          "execution_count": 51
        }
      ]
    },
    {
      "cell_type": "code",
      "metadata": {
        "id": "6bBZ1uikm49I",
        "colab": {
          "base_uri": "https://localhost:8080/"
        },
        "outputId": "1eb09c67-0d3e-408b-8095-787b39daa4e6"
      },
      "source": [
        "J # A matriz não foi alterada "
      ],
      "execution_count": 53,
      "outputs": [
        {
          "output_type": "execute_result",
          "data": {
            "text/plain": [
              "array([[ 2,  4, 19],\n",
              "       [ 4,  7,  1],\n",
              "       [ 9,  3,  8]])"
            ]
          },
          "metadata": {
            "tags": []
          },
          "execution_count": 53
        }
      ]
    },
    {
      "cell_type": "code",
      "metadata": {
        "id": "PtIgFxV_m6kA"
      },
      "source": [
        "F = J[:,1] # todos os elementos da coluna 1"
      ],
      "execution_count": 54,
      "outputs": []
    },
    {
      "cell_type": "code",
      "metadata": {
        "id": "8BOvB54HnK-f",
        "colab": {
          "base_uri": "https://localhost:8080/"
        },
        "outputId": "2b29c8df-0c17-4221-97a8-8c237b5b7737"
      },
      "source": [
        "F"
      ],
      "execution_count": 55,
      "outputs": [
        {
          "output_type": "execute_result",
          "data": {
            "text/plain": [
              "array([4, 7, 3])"
            ]
          },
          "metadata": {
            "tags": []
          },
          "execution_count": 55
        }
      ]
    },
    {
      "cell_type": "code",
      "metadata": {
        "id": "2KIpoGNrnRco",
        "colab": {
          "base_uri": "https://localhost:8080/"
        },
        "outputId": "aa35e884-791b-49d8-a2f2-c6807d7babd6"
      },
      "source": [
        "''' Slicing parte 2'''\r\n",
        "W = np.array([[0,3,2,6,5],[5,6,8,7,6],[9,5,6,1,0],[9,7,4,6,3]])\r\n",
        "W"
      ],
      "execution_count": 66,
      "outputs": [
        {
          "output_type": "execute_result",
          "data": {
            "text/plain": [
              "array([[0, 3, 2, 6, 5],\n",
              "       [5, 6, 8, 7, 6],\n",
              "       [9, 5, 6, 1, 0],\n",
              "       [9, 7, 4, 6, 3]])"
            ]
          },
          "metadata": {
            "tags": []
          },
          "execution_count": 66
        }
      ]
    },
    {
      "cell_type": "code",
      "metadata": {
        "colab": {
          "base_uri": "https://localhost:8080/"
        },
        "id": "SKFLe_oHS_XP",
        "outputId": "6cfc44ff-a217-4261-a1af-8fcba43fafb3"
      },
      "source": [
        "W.shape"
      ],
      "execution_count": 70,
      "outputs": [
        {
          "output_type": "execute_result",
          "data": {
            "text/plain": [
              "(4, 5)"
            ]
          },
          "metadata": {
            "tags": []
          },
          "execution_count": 70
        }
      ]
    },
    {
      "cell_type": "code",
      "metadata": {
        "colab": {
          "base_uri": "https://localhost:8080/"
        },
        "id": "54hNHrvVUybF",
        "outputId": "a679ce80-1039-48cd-f07b-92652841ec90"
      },
      "source": [
        "W1 = W[0,1:5] # Em python linha 0 e colunas de 1 a 4\r\n",
        "W1"
      ],
      "execution_count": 75,
      "outputs": [
        {
          "output_type": "execute_result",
          "data": {
            "text/plain": [
              "array([3, 2, 6, 5])"
            ]
          },
          "metadata": {
            "tags": []
          },
          "execution_count": 75
        }
      ]
    },
    {
      "cell_type": "code",
      "metadata": {
        "colab": {
          "base_uri": "https://localhost:8080/"
        },
        "id": "ccWrdXHiVakS",
        "outputId": "0b883c8b-f0be-4c68-fe26-6d909fe7482b"
      },
      "source": [
        "W2 = W[:,4] # Em python linhas de 0 a 3 e coluna 4\r\n",
        "W2"
      ],
      "execution_count": 84,
      "outputs": [
        {
          "output_type": "execute_result",
          "data": {
            "text/plain": [
              "array([5, 6, 0, 3])"
            ]
          },
          "metadata": {
            "tags": []
          },
          "execution_count": 84
        }
      ]
    },
    {
      "cell_type": "code",
      "metadata": {
        "colab": {
          "base_uri": "https://localhost:8080/"
        },
        "id": "0KfT_JMQV5Fl",
        "outputId": "66580897-3901-4fb0-a0fd-4234a91fb66a"
      },
      "source": [
        "W3 = W[1,1:5]\r\n",
        "W3"
      ],
      "execution_count": 86,
      "outputs": [
        {
          "output_type": "execute_result",
          "data": {
            "text/plain": [
              "array([6, 8, 7, 6])"
            ]
          },
          "metadata": {
            "tags": []
          },
          "execution_count": 86
        }
      ]
    },
    {
      "cell_type": "code",
      "metadata": {
        "colab": {
          "base_uri": "https://localhost:8080/"
        },
        "id": "sYFPeyXyXTxA",
        "outputId": "369ac767-bab9-4f0e-e42a-0167fcfae360"
      },
      "source": [
        "W4 = W[1:4,2]\r\n",
        "W4"
      ],
      "execution_count": 89,
      "outputs": [
        {
          "output_type": "execute_result",
          "data": {
            "text/plain": [
              "array([8, 6, 4])"
            ]
          },
          "metadata": {
            "tags": []
          },
          "execution_count": 89
        }
      ]
    },
    {
      "cell_type": "code",
      "metadata": {
        "id": "uk-5_vyfXkxf"
      },
      "source": [
        ""
      ],
      "execution_count": null,
      "outputs": []
    }
  ]
}