{
  "nbformat": 4,
  "nbformat_minor": 0,
  "metadata": {
    "colab": {
      "name": "6SolucaoSistemasPython.ipynb",
      "provenance": [],
      "collapsed_sections": [],
      "authorship_tag": "ABX9TyOdcYjx46nLM2aKk7Nzfduw",
      "include_colab_link": true
    },
    "kernelspec": {
      "name": "python3",
      "display_name": "Python 3"
    }
  },
  "cells": [
    {
      "cell_type": "markdown",
      "metadata": {
        "id": "view-in-github",
        "colab_type": "text"
      },
      "source": [
        "<a href=\"https://colab.research.google.com/github/jonfisik/Projects/blob/master/python/AlgebraLinearPython/6SolucaoSistemasPython.ipynb\" target=\"_parent\"><img src=\"https://colab.research.google.com/assets/colab-badge.svg\" alt=\"Open In Colab\"/></a>"
      ]
    },
    {
      "cell_type": "code",
      "metadata": {
        "id": "BE0nIhNfHQcI"
      },
      "source": [
        "import numpy as np\r\n",
        "from numpy.linalg import det, inv"
      ],
      "execution_count": 2,
      "outputs": []
    },
    {
      "cell_type": "code",
      "metadata": {
        "id": "0vrIv04cHwtA"
      },
      "source": [
        "A = np.array(([-1,2],[2,1]))\r\n",
        "B = np.array(([-1],[5]))"
      ],
      "execution_count": 4,
      "outputs": []
    },
    {
      "cell_type": "code",
      "metadata": {
        "colab": {
          "base_uri": "https://localhost:8080/"
        },
        "id": "zG3AlUGgH8LF",
        "outputId": "8f93f0e1-03e7-4e6e-da89-287a1b3ea4f9"
      },
      "source": [
        "A"
      ],
      "execution_count": 5,
      "outputs": [
        {
          "output_type": "execute_result",
          "data": {
            "text/plain": [
              "array([[-1,  2],\n",
              "       [ 2,  1]])"
            ]
          },
          "metadata": {
            "tags": []
          },
          "execution_count": 5
        }
      ]
    },
    {
      "cell_type": "code",
      "metadata": {
        "colab": {
          "base_uri": "https://localhost:8080/"
        },
        "id": "heqPEskXIHc1",
        "outputId": "df2aff3b-5c6b-4fa2-cca2-26c7c7ad2021"
      },
      "source": [
        "B"
      ],
      "execution_count": 6,
      "outputs": [
        {
          "output_type": "execute_result",
          "data": {
            "text/plain": [
              "array([[-1],\n",
              "       [ 5]])"
            ]
          },
          "metadata": {
            "tags": []
          },
          "execution_count": 6
        }
      ]
    },
    {
      "cell_type": "code",
      "metadata": {
        "colab": {
          "base_uri": "https://localhost:8080/"
        },
        "id": "YGHeelkPIH6M",
        "outputId": "3c7cb875-e8c4-4d0d-819b-f8853896bda2"
      },
      "source": [
        "det(A)"
      ],
      "execution_count": 7,
      "outputs": [
        {
          "output_type": "execute_result",
          "data": {
            "text/plain": [
              "-5.000000000000001"
            ]
          },
          "metadata": {
            "tags": []
          },
          "execution_count": 7
        }
      ]
    },
    {
      "cell_type": "code",
      "metadata": {
        "colab": {
          "base_uri": "https://localhost:8080/"
        },
        "id": "nXAhCrTEIJhN",
        "outputId": "796bb65b-01e7-4787-d248-a7b75b52eaca"
      },
      "source": [
        "# Vetor Solução\r\n",
        "X = inv(A).dot(B)\r\n",
        "X"
      ],
      "execution_count": 9,
      "outputs": [
        {
          "output_type": "execute_result",
          "data": {
            "text/plain": [
              "array([[2.2],\n",
              "       [0.6]])"
            ]
          },
          "metadata": {
            "tags": []
          },
          "execution_count": 9
        }
      ]
    },
    {
      "cell_type": "code",
      "metadata": {
        "colab": {
          "base_uri": "https://localhost:8080/"
        },
        "id": "ThDfqBtoITPM",
        "outputId": "69d31286-dea9-4972-eb7d-bff46468fe13"
      },
      "source": [
        "# Matriz dos coeficientes vezes matriz solução = matriz dos termos independentes\r\n",
        "A.dot(X)"
      ],
      "execution_count": 11,
      "outputs": [
        {
          "output_type": "execute_result",
          "data": {
            "text/plain": [
              "array([[-1.],\n",
              "       [ 5.]])"
            ]
          },
          "metadata": {
            "tags": []
          },
          "execution_count": 11
        }
      ]
    },
    {
      "cell_type": "code",
      "metadata": {
        "id": "ApCOawi_I5xT"
      },
      "source": [
        "# Sistema 3x3\r\n",
        "C = np.array(([1,2,3],[6,0,1],[4,5,-1]))\r\n",
        "D = np.array(([3],[-6],[1]))"
      ],
      "execution_count": 13,
      "outputs": []
    },
    {
      "cell_type": "code",
      "metadata": {
        "colab": {
          "base_uri": "https://localhost:8080/"
        },
        "id": "yKurQVthJaba",
        "outputId": "c30f0d13-5c9d-4a1c-c0fd-386e9961cf8a"
      },
      "source": [
        "C"
      ],
      "execution_count": 14,
      "outputs": [
        {
          "output_type": "execute_result",
          "data": {
            "text/plain": [
              "array([[ 1,  2,  3],\n",
              "       [ 6,  0,  1],\n",
              "       [ 4,  5, -1]])"
            ]
          },
          "metadata": {
            "tags": []
          },
          "execution_count": 14
        }
      ]
    },
    {
      "cell_type": "code",
      "metadata": {
        "colab": {
          "base_uri": "https://localhost:8080/"
        },
        "id": "8kTyT_gNJfHJ",
        "outputId": "d3bbf86f-8651-489a-b5e4-c6c9a21b4a9e"
      },
      "source": [
        "D"
      ],
      "execution_count": 15,
      "outputs": [
        {
          "output_type": "execute_result",
          "data": {
            "text/plain": [
              "array([[ 3],\n",
              "       [-6],\n",
              "       [ 1]])"
            ]
          },
          "metadata": {
            "tags": []
          },
          "execution_count": 15
        }
      ]
    },
    {
      "cell_type": "code",
      "metadata": {
        "colab": {
          "base_uri": "https://localhost:8080/"
        },
        "id": "fPEEaRqYJf05",
        "outputId": "c6e48a1b-7a1b-4c41-dcf1-1ef1241fe44b"
      },
      "source": [
        "det(C)"
      ],
      "execution_count": 16,
      "outputs": [
        {
          "output_type": "execute_result",
          "data": {
            "text/plain": [
              "104.99999999999997"
            ]
          },
          "metadata": {
            "tags": []
          },
          "execution_count": 16
        }
      ]
    },
    {
      "cell_type": "code",
      "metadata": {
        "colab": {
          "base_uri": "https://localhost:8080/"
        },
        "id": "-794lkn-Jh3p",
        "outputId": "bf846a5e-b73e-4c27-cee7-e447cbeac92f"
      },
      "source": [
        "S = inv(C).dot(D)\r\n",
        "S"
      ],
      "execution_count": 20,
      "outputs": [
        {
          "output_type": "execute_result",
          "data": {
            "text/plain": [
              "array([[-1.0952381 ],\n",
              "       [ 1.19047619],\n",
              "       [ 0.57142857]])"
            ]
          },
          "metadata": {
            "tags": []
          },
          "execution_count": 20
        }
      ]
    },
    {
      "cell_type": "code",
      "metadata": {
        "colab": {
          "base_uri": "https://localhost:8080/"
        },
        "id": "A2F1RUYSJmVp",
        "outputId": "be3ee3bf-070d-479c-c032-e2ab1f04101f"
      },
      "source": [
        "C.dot(S)"
      ],
      "execution_count": 38,
      "outputs": [
        {
          "output_type": "execute_result",
          "data": {
            "text/plain": [
              "array([[ 3.],\n",
              "       [-6.],\n",
              "       [ 1.]])"
            ]
          },
          "metadata": {
            "tags": []
          },
          "execution_count": 38
        }
      ]
    },
    {
      "cell_type": "code",
      "metadata": {
        "id": "NEwb6cSEOAsX"
      },
      "source": [
        "import numpy as np\r\n",
        "from numpy.linalg import det, inv"
      ],
      "execution_count": 39,
      "outputs": []
    },
    {
      "cell_type": "code",
      "metadata": {
        "id": "gKtruZQOJ3Oo"
      },
      "source": [
        "# Regra de Cramer \r\n",
        "A = np.array(([-1,2],[2,1]))\r\n",
        "B = np.array(([-1],[5]))"
      ],
      "execution_count": 40,
      "outputs": []
    },
    {
      "cell_type": "code",
      "metadata": {
        "colab": {
          "base_uri": "https://localhost:8080/"
        },
        "id": "gPERQGoALoRu",
        "outputId": "498164ab-3df1-4d66-bbe6-5aded7bbf23f"
      },
      "source": [
        "A"
      ],
      "execution_count": 41,
      "outputs": [
        {
          "output_type": "execute_result",
          "data": {
            "text/plain": [
              "array([[-1,  2],\n",
              "       [ 2,  1]])"
            ]
          },
          "metadata": {
            "tags": []
          },
          "execution_count": 41
        }
      ]
    },
    {
      "cell_type": "code",
      "metadata": {
        "colab": {
          "base_uri": "https://localhost:8080/"
        },
        "id": "ulHeYKX9LsE8",
        "outputId": "8ffdfcd8-9793-476d-934c-20dd7d4286f8"
      },
      "source": [
        "B"
      ],
      "execution_count": 42,
      "outputs": [
        {
          "output_type": "execute_result",
          "data": {
            "text/plain": [
              "array([[-1],\n",
              "       [ 5]])"
            ]
          },
          "metadata": {
            "tags": []
          },
          "execution_count": 42
        }
      ]
    },
    {
      "cell_type": "code",
      "metadata": {
        "colab": {
          "base_uri": "https://localhost:8080/"
        },
        "id": "aaEZNjnLLslD",
        "outputId": "ee903482-47ad-4c92-991c-ca78d8ef351e"
      },
      "source": [
        "D = det(A)\r\n",
        "D"
      ],
      "execution_count": 43,
      "outputs": [
        {
          "output_type": "execute_result",
          "data": {
            "text/plain": [
              "-5.000000000000001"
            ]
          },
          "metadata": {
            "tags": []
          },
          "execution_count": 43
        }
      ]
    },
    {
      "cell_type": "code",
      "metadata": {
        "colab": {
          "base_uri": "https://localhost:8080/"
        },
        "id": "bXl1oZtFMkXp",
        "outputId": "de0a1782-0dd4-43e0-eae3-ed6468c732e2"
      },
      "source": [
        "Ax = A.copy()\r\n",
        "Ax[:,0] = B[:,0]\r\n",
        "Ax"
      ],
      "execution_count": 44,
      "outputs": [
        {
          "output_type": "execute_result",
          "data": {
            "text/plain": [
              "array([[-1,  2],\n",
              "       [ 5,  1]])"
            ]
          },
          "metadata": {
            "tags": []
          },
          "execution_count": 44
        }
      ]
    },
    {
      "cell_type": "code",
      "metadata": {
        "colab": {
          "base_uri": "https://localhost:8080/"
        },
        "id": "iizWOG5EM5Ox",
        "outputId": "c1817b1f-2180-48f0-df61-0bd5e2e3fe8b"
      },
      "source": [
        "Ay = A.copy()\r\n",
        "Ay[:,1] = B[:,0]\r\n",
        "Ay"
      ],
      "execution_count": 45,
      "outputs": [
        {
          "output_type": "execute_result",
          "data": {
            "text/plain": [
              "array([[-1, -1],\n",
              "       [ 2,  5]])"
            ]
          },
          "metadata": {
            "tags": []
          },
          "execution_count": 45
        }
      ]
    },
    {
      "cell_type": "code",
      "metadata": {
        "colab": {
          "base_uri": "https://localhost:8080/"
        },
        "id": "yWS8nZqONQXA",
        "outputId": "81cacf62-ad18-41fe-bc79-9692e5ab89e9"
      },
      "source": [
        "Dx = det(Ax)\r\n",
        "Dx"
      ],
      "execution_count": 46,
      "outputs": [
        {
          "output_type": "execute_result",
          "data": {
            "text/plain": [
              "-11.000000000000002"
            ]
          },
          "metadata": {
            "tags": []
          },
          "execution_count": 46
        }
      ]
    },
    {
      "cell_type": "code",
      "metadata": {
        "colab": {
          "base_uri": "https://localhost:8080/"
        },
        "id": "OoS-VPbjNm4I",
        "outputId": "9e8bbd97-722c-4fab-9bd2-000d7f77e147"
      },
      "source": [
        "Dy = det(Ay)\r\n",
        "Dy"
      ],
      "execution_count": 47,
      "outputs": [
        {
          "output_type": "execute_result",
          "data": {
            "text/plain": [
              "-2.9999999999999996"
            ]
          },
          "metadata": {
            "tags": []
          },
          "execution_count": 47
        }
      ]
    },
    {
      "cell_type": "code",
      "metadata": {
        "colab": {
          "base_uri": "https://localhost:8080/"
        },
        "id": "52MKccFINrnf",
        "outputId": "979619fd-4e56-4b57-ba19-6f09c8edec55"
      },
      "source": [
        "x = Dx/D\r\n",
        "x"
      ],
      "execution_count": 48,
      "outputs": [
        {
          "output_type": "execute_result",
          "data": {
            "text/plain": [
              "2.2"
            ]
          },
          "metadata": {
            "tags": []
          },
          "execution_count": 48
        }
      ]
    },
    {
      "cell_type": "code",
      "metadata": {
        "colab": {
          "base_uri": "https://localhost:8080/"
        },
        "id": "jv_p5EK2Nv5n",
        "outputId": "54029375-9c06-4098-f179-2453352eae54"
      },
      "source": [
        "y = Dy/D\r\n",
        "y"
      ],
      "execution_count": 49,
      "outputs": [
        {
          "output_type": "execute_result",
          "data": {
            "text/plain": [
              "0.5999999999999998"
            ]
          },
          "metadata": {
            "tags": []
          },
          "execution_count": 49
        }
      ]
    },
    {
      "cell_type": "code",
      "metadata": {
        "id": "YD0RSznIN1K3"
      },
      "source": [
        "# 3x3\r\n",
        "V = np.array(([1,2,3],[6,0,1],[4,5,-1]))\r\n",
        "W = np.array(([3],[-6],[1]))"
      ],
      "execution_count": 60,
      "outputs": []
    },
    {
      "cell_type": "code",
      "metadata": {
        "colab": {
          "base_uri": "https://localhost:8080/"
        },
        "id": "Rvw6nhu1P2qS",
        "outputId": "dd20718e-b207-4248-a11b-2181ce14b24f"
      },
      "source": [
        "V"
      ],
      "execution_count": 61,
      "outputs": [
        {
          "output_type": "execute_result",
          "data": {
            "text/plain": [
              "array([[ 1,  2,  3],\n",
              "       [ 6,  0,  1],\n",
              "       [ 4,  5, -1]])"
            ]
          },
          "metadata": {
            "tags": []
          },
          "execution_count": 61
        }
      ]
    },
    {
      "cell_type": "code",
      "metadata": {
        "colab": {
          "base_uri": "https://localhost:8080/"
        },
        "id": "tNViJShhOuLv",
        "outputId": "ecb8b8cd-521e-472e-ef19-019444b45cc6"
      },
      "source": [
        "D = det(V)\r\n",
        "D"
      ],
      "execution_count": 55,
      "outputs": [
        {
          "output_type": "execute_result",
          "data": {
            "text/plain": [
              "104.99999999999997"
            ]
          },
          "metadata": {
            "tags": []
          },
          "execution_count": 55
        }
      ]
    },
    {
      "cell_type": "code",
      "metadata": {
        "colab": {
          "base_uri": "https://localhost:8080/"
        },
        "id": "V349G7DOO8rs",
        "outputId": "e372bc5d-5a9f-4f94-eda1-f8e6bcc8dde9"
      },
      "source": [
        "Vx = V.copy()\r\n",
        "Vx[:,0] = W[:,0]\r\n",
        "Vx"
      ],
      "execution_count": 57,
      "outputs": [
        {
          "output_type": "execute_result",
          "data": {
            "text/plain": [
              "array([[ 3,  2,  3],\n",
              "       [-6,  0,  1],\n",
              "       [ 1,  5, -1]])"
            ]
          },
          "metadata": {
            "tags": []
          },
          "execution_count": 57
        }
      ]
    },
    {
      "cell_type": "code",
      "metadata": {
        "colab": {
          "base_uri": "https://localhost:8080/"
        },
        "id": "T65wXeyZPXkT",
        "outputId": "6e6e6a37-7c49-41e4-817d-bd9216619ad2"
      },
      "source": [
        "Vy = V.copy()\r\n",
        "Vy[:,1] = W[:,0]\r\n",
        "Vy"
      ],
      "execution_count": 59,
      "outputs": [
        {
          "output_type": "execute_result",
          "data": {
            "text/plain": [
              "array([[ 1,  3,  3],\n",
              "       [ 6, -6,  1],\n",
              "       [ 4,  1, -1]])"
            ]
          },
          "metadata": {
            "tags": []
          },
          "execution_count": 59
        }
      ]
    },
    {
      "cell_type": "code",
      "metadata": {
        "colab": {
          "base_uri": "https://localhost:8080/"
        },
        "id": "RbyRfvi1Py3y",
        "outputId": "f0ddaca4-8075-4d68-e6ab-98cdfc21ad6a"
      },
      "source": [
        "Vz = V.copy()\r\n",
        "Vz[:,2] = W[:,0]\r\n",
        "Vz  "
      ],
      "execution_count": 62,
      "outputs": [
        {
          "output_type": "execute_result",
          "data": {
            "text/plain": [
              "array([[ 1,  2,  3],\n",
              "       [ 6,  0, -6],\n",
              "       [ 4,  5,  1]])"
            ]
          },
          "metadata": {
            "tags": []
          },
          "execution_count": 62
        }
      ]
    },
    {
      "cell_type": "code",
      "metadata": {
        "colab": {
          "base_uri": "https://localhost:8080/"
        },
        "id": "6fHYKmXqQIAr",
        "outputId": "f56e8b99-e090-4879-c3fd-8d7e18e390c3"
      },
      "source": [
        "Dx = det(Vx)\r\n",
        "Dx"
      ],
      "execution_count": 63,
      "outputs": [
        {
          "output_type": "execute_result",
          "data": {
            "text/plain": [
              "-114.99999999999991"
            ]
          },
          "metadata": {
            "tags": []
          },
          "execution_count": 63
        }
      ]
    },
    {
      "cell_type": "code",
      "metadata": {
        "colab": {
          "base_uri": "https://localhost:8080/"
        },
        "id": "GSRQb-kNQfow",
        "outputId": "128aa09b-0c51-49e6-a8bd-bbf7efc6b5ee"
      },
      "source": [
        "Dy = det(Vy)\r\n",
        "Dy"
      ],
      "execution_count": 64,
      "outputs": [
        {
          "output_type": "execute_result",
          "data": {
            "text/plain": [
              "124.99999999999994"
            ]
          },
          "metadata": {
            "tags": []
          },
          "execution_count": 64
        }
      ]
    },
    {
      "cell_type": "code",
      "metadata": {
        "colab": {
          "base_uri": "https://localhost:8080/"
        },
        "id": "gGlXcdRBQjIQ",
        "outputId": "6f94ad7e-3f50-40cc-b8c9-add51dc45bf9"
      },
      "source": [
        "Dz = det(Vz)\r\n",
        "Dz"
      ],
      "execution_count": 65,
      "outputs": [
        {
          "output_type": "execute_result",
          "data": {
            "text/plain": [
              "59.999999999999986"
            ]
          },
          "metadata": {
            "tags": []
          },
          "execution_count": 65
        }
      ]
    },
    {
      "cell_type": "code",
      "metadata": {
        "colab": {
          "base_uri": "https://localhost:8080/"
        },
        "id": "C-vg9ib7Qoz4",
        "outputId": "2ae2f897-3132-4abe-d5e7-494b1817ce42"
      },
      "source": [
        "x = Dx/D\r\n",
        "x"
      ],
      "execution_count": 69,
      "outputs": [
        {
          "output_type": "execute_result",
          "data": {
            "text/plain": [
              "-1.0952380952380947"
            ]
          },
          "metadata": {
            "tags": []
          },
          "execution_count": 69
        }
      ]
    },
    {
      "cell_type": "code",
      "metadata": {
        "colab": {
          "base_uri": "https://localhost:8080/"
        },
        "id": "_cQGn3i_Qs0A",
        "outputId": "89d6d64e-0a34-4c89-fdaa-7885e86d70ea"
      },
      "source": [
        "y = Dy/D\r\n",
        "y"
      ],
      "execution_count": 71,
      "outputs": [
        {
          "output_type": "execute_result",
          "data": {
            "text/plain": [
              "1.1904761904761902"
            ]
          },
          "metadata": {
            "tags": []
          },
          "execution_count": 71
        }
      ]
    },
    {
      "cell_type": "code",
      "metadata": {
        "colab": {
          "base_uri": "https://localhost:8080/"
        },
        "id": "gOBiv9ziQuvX",
        "outputId": "4576c621-4d38-461b-ca9b-69550f089bd7"
      },
      "source": [
        "z = Dz/D\r\n",
        "z"
      ],
      "execution_count": 73,
      "outputs": [
        {
          "output_type": "execute_result",
          "data": {
            "text/plain": [
              "0.5714285714285714"
            ]
          },
          "metadata": {
            "tags": []
          },
          "execution_count": 73
        }
      ]
    },
    {
      "cell_type": "code",
      "metadata": {
        "id": "eq9Z3SHqQ58w"
      },
      "source": [
        "# Representação gráfica\r\n",
        "import numpy as np\r\n",
        "from numpy.linalg import det, inv\r\n",
        "import matplotlib.pyplot as plt"
      ],
      "execution_count": 75,
      "outputs": []
    },
    {
      "cell_type": "markdown",
      "metadata": {
        "id": "Mq5ZcoeBS-cO"
      },
      "source": [
        "Sistema\r\n",
        "\r\n",
        "y - 2x = 5\r\n",
        "\r\n",
        "y + 3x = 2\r\n",
        "\r\n",
        "\r\n",
        "A = np.array(([1,-2],[1,3]))\r\n",
        "\r\n",
        "B = np.array(([5],[2]))"
      ]
    },
    {
      "cell_type": "code",
      "metadata": {
        "id": "wOINqJScTngy"
      },
      "source": [
        "# Para representação gráfica - distinção do Y\r\n",
        "x = np.linspace(-10,10,100)\r\n",
        "\r\n",
        "y1 = 2*x + 5\r\n",
        "y2 = -3*x + 2"
      ],
      "execution_count": 76,
      "outputs": []
    },
    {
      "cell_type": "code",
      "metadata": {
        "colab": {
          "base_uri": "https://localhost:8080/",
          "height": 296
        },
        "id": "jpgxRIqEUb2K",
        "outputId": "1b6f98c7-18dc-4292-e91e-6f27468083cd"
      },
      "source": [
        "plt.plot(x,y1,'red')\r\n",
        "plt.plot(x,y2,'blue')\r\n",
        "\r\n",
        "plt.legend(['y1 = 2*x+5','y2 = -3*x+2'])\r\n",
        "\r\n",
        "plt.xlabel('X')\r\n",
        "plt.ylabel('Y')"
      ],
      "execution_count": 86,
      "outputs": [
        {
          "output_type": "execute_result",
          "data": {
            "text/plain": [
              "Text(0, 0.5, 'Y')"
            ]
          },
          "metadata": {
            "tags": []
          },
          "execution_count": 86
        },
        {
          "output_type": "display_data",
          "data": {
            "image/png": "[encoded data removed]",
            "text/plain": [
              "<Figure size 432x288 with 1 Axes>"
            ]
          },
          "metadata": {
            "tags": [],
            "needs_background": "light"
          }
        }
      ]
    },
    {
      "cell_type": "code",
      "metadata": {
        "id": "n4iBlQkVU0JO"
      },
      "source": [
        "A = np.array(([1,-2],[1,3]))\r\n",
        "B = np.array(([5],[2]))"
      ],
      "execution_count": 78,
      "outputs": []
    },
    {
      "cell_type": "code",
      "metadata": {
        "colab": {
          "base_uri": "https://localhost:8080/"
        },
        "id": "dAYZIbf4VFCB",
        "outputId": "2ffa78ac-fdfa-4cf0-c8c1-22d6ca3b8239"
      },
      "source": [
        "det(A)"
      ],
      "execution_count": 79,
      "outputs": [
        {
          "output_type": "execute_result",
          "data": {
            "text/plain": [
              "4.999999999999999"
            ]
          },
          "metadata": {
            "tags": []
          },
          "execution_count": 79
        }
      ]
    },
    {
      "cell_type": "code",
      "metadata": {
        "colab": {
          "base_uri": "https://localhost:8080/"
        },
        "id": "50FBdDo7VGlV",
        "outputId": "5c070dcb-966f-4f1f-8f46-a90721f5e0eb"
      },
      "source": [
        "P = inv(A).dot(B)\r\n",
        "P"
      ],
      "execution_count": 80,
      "outputs": [
        {
          "output_type": "execute_result",
          "data": {
            "text/plain": [
              "array([[ 3.8],\n",
              "       [-0.6]])"
            ]
          },
          "metadata": {
            "tags": []
          },
          "execution_count": 80
        }
      ]
    },
    {
      "cell_type": "code",
      "metadata": {
        "colab": {
          "base_uri": "https://localhost:8080/",
          "height": 296
        },
        "id": "b280gTPwVMct",
        "outputId": "50fc287b-34e2-48e7-9b72-3f53c8edb0aa"
      },
      "source": [
        "plt.plot(x,y1,'red')\r\n",
        "plt.plot(x,y2,'blue')\r\n",
        "\r\n",
        "plt.legend(['y1 = 2*x+5','y2 = -3*x+2'])\r\n",
        "\r\n",
        "plt.plot(P[1],P[0],'og')\r\n",
        "\r\n",
        "plt.xlabel('X')\r\n",
        "plt.ylabel('Y')"
      ],
      "execution_count": 87,
      "outputs": [
        {
          "output_type": "execute_result",
          "data": {
            "text/plain": [
              "Text(0, 0.5, 'Y')"
            ]
          },
          "metadata": {
            "tags": []
          },
          "execution_count": 87
        },
        {
          "output_type": "display_data",
          "data": {
            "image/png": "[encoded data removed]",
            "text/plain": [
              "<Figure size 432x288 with 1 Axes>"
            ]
          },
          "metadata": {
            "tags": [],
            "needs_background": "light"
          }
        }
      ]
    },
    {
      "cell_type": "markdown",
      "metadata": {
        "id": "cgus2yvkWR2T"
      },
      "source": [
        "Sistema 2\r\n",
        "\r\n",
        "y3 = 2*x + 4\r\n",
        "\r\n",
        "y4 = 2*x + 8\r\n",
        "\r\n",
        "F = np.array([[1,-2],[1,-2]])\r\n",
        "\r\n",
        "G = np.array([[4],[8]])"
      ]
    },
    {
      "cell_type": "code",
      "metadata": {
        "id": "oTANtwxUW5yp"
      },
      "source": [
        "y3 = 2*x + 4\r\n",
        "y4 = 2*x + 8"
      ],
      "execution_count": 84,
      "outputs": []
    },
    {
      "cell_type": "code",
      "metadata": {
        "colab": {
          "base_uri": "https://localhost:8080/",
          "height": 299
        },
        "id": "Z_aunSMyW9uL",
        "outputId": "ef40525f-32b8-4f7a-8573-6bcb46b5307e"
      },
      "source": [
        "plt.plot(x,y3,'red')\r\n",
        "plt.plot(x,y4,'blue')\r\n",
        "\r\n",
        "plt.legend(['y3 = 2*x+4','y4 = 2*x+8'])\r\n",
        "\r\n",
        "plt.xlabel('X')\r\n",
        "plt.ylabel('Y')"
      ],
      "execution_count": 85,
      "outputs": [
        {
          "output_type": "execute_result",
          "data": {
            "text/plain": [
              "Text(0, 0.5, 'Y')"
            ]
          },
          "metadata": {
            "tags": []
          },
          "execution_count": 85
        },
        {
          "output_type": "display_data",
          "data": {
            "image/png": "[encoded data removed]",
            "text/plain": [
              "<Figure size 432x288 with 1 Axes>"
            ]
          },
          "metadata": {
            "tags": [],
            "needs_background": "light"
          }
        }
      ]
    },
    {
      "cell_type": "code",
      "metadata": {
        "id": "A5pvjiqaXkFp"
      },
      "source": [
        "F = np.array([[1,-2],[1,-2]])\r\n",
        "G = np.array([[4],[8]])"
      ],
      "execution_count": 88,
      "outputs": []
    },
    {
      "cell_type": "code",
      "metadata": {
        "colab": {
          "base_uri": "https://localhost:8080/"
        },
        "id": "dqBZsJPPYZUX",
        "outputId": "6d577772-e89b-41f2-e8bb-f6bd8a6427b5"
      },
      "source": [
        "det(F)"
      ],
      "execution_count": 89,
      "outputs": [
        {
          "output_type": "execute_result",
          "data": {
            "text/plain": [
              "0.0"
            ]
          },
          "metadata": {
            "tags": []
          },
          "execution_count": 89
        }
      ]
    },
    {
      "cell_type": "code",
      "metadata": {
        "id": "YGEjSpHGYbKy"
      },
      "source": [
        ""
      ],
      "execution_count": null,
      "outputs": []
    }
  ]
}