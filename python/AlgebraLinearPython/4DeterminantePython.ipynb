{
  "nbformat": 4,
  "nbformat_minor": 0,
  "metadata": {
    "colab": {
      "name": "4DeterminantePython.ipynb",
      "provenance": [],
      "authorship_tag": "ABX9TyMAMAOHKWgxZe2hgJp4w62l",
      "include_colab_link": true
    },
    "kernelspec": {
      "name": "python3",
      "display_name": "Python 3"
    }
  },
  "cells": [
    {
      "cell_type": "markdown",
      "metadata": {
        "id": "view-in-github",
        "colab_type": "text"
      },
      "source": [
        "<a href=\"https://colab.research.google.com/github/jonfisik/Projects/blob/master/python/AlgebraLinearPython/4DeterminantePython.ipynb\" target=\"_parent\"><img src=\"https://colab.research.google.com/assets/colab-badge.svg\" alt=\"Open In Colab\"/></a>"
      ]
    },
    {
      "cell_type": "code",
      "metadata": {
        "id": "IKCwKRza30AH"
      },
      "source": [
        "import numpy as np"
      ],
      "execution_count": null,
      "outputs": []
    },
    {
      "cell_type": "code",
      "metadata": {
        "colab": {
          "base_uri": "https://localhost:8080/"
        },
        "id": "O9MT9MI63-Tb",
        "outputId": "de9d4655-88bd-4385-8ba2-ef9cfe944dca"
      },
      "source": [
        "A = np.array([[1,2,4],[5,3,-1],[7,2,0]])\r\n",
        "A"
      ],
      "execution_count": null,
      "outputs": [
        {
          "output_type": "execute_result",
          "data": {
            "text/plain": [
              "array([[ 1,  2,  4],\n",
              "       [ 5,  3, -1],\n",
              "       [ 7,  2,  0]])"
            ]
          },
          "metadata": {
            "tags": []
          },
          "execution_count": 2
        }
      ]
    },
    {
      "cell_type": "code",
      "metadata": {
        "id": "pK9GyfK04RkJ"
      },
      "source": [
        "det_A = np.linalg.det(A)"
      ],
      "execution_count": null,
      "outputs": []
    },
    {
      "cell_type": "code",
      "metadata": {
        "colab": {
          "base_uri": "https://localhost:8080/"
        },
        "id": "hcxHPZq14ZrI",
        "outputId": "809aea37-5899-47a2-b886-325c1e85a9c2"
      },
      "source": [
        "det_A"
      ],
      "execution_count": null,
      "outputs": [
        {
          "output_type": "execute_result",
          "data": {
            "text/plain": [
              "-56.00000000000002"
            ]
          },
          "metadata": {
            "tags": []
          },
          "execution_count": 4
        }
      ]
    },
    {
      "cell_type": "code",
      "metadata": {
        "id": "aHDG8w3L4bCh"
      },
      "source": [
        "?np.linalg.det"
      ],
      "execution_count": null,
      "outputs": []
    },
    {
      "cell_type": "code",
      "metadata": {
        "colab": {
          "base_uri": "https://localhost:8080/"
        },
        "id": "hqf4MSdQ443O",
        "outputId": "ddda037e-ddda-4308-b71f-c9f4723b6616"
      },
      "source": [
        "a = np.array([[1, 2], [3, 4]])\r\n",
        "np.linalg.det(a)"
      ],
      "execution_count": null,
      "outputs": [
        {
          "output_type": "execute_result",
          "data": {
            "text/plain": [
              "-2.0000000000000004"
            ]
          },
          "metadata": {
            "tags": []
          },
          "execution_count": 7
        }
      ]
    },
    {
      "cell_type": "code",
      "metadata": {
        "id": "Ewu2jAQg5Izm"
      },
      "source": [
        "from numpy.linalg import det"
      ],
      "execution_count": null,
      "outputs": []
    },
    {
      "cell_type": "code",
      "metadata": {
        "colab": {
          "base_uri": "https://localhost:8080/"
        },
        "id": "m9o_-rxq5nbW",
        "outputId": "9cbca307-78f0-4a67-b099-3fb8d3fc9cbe"
      },
      "source": [
        "A"
      ],
      "execution_count": null,
      "outputs": [
        {
          "output_type": "execute_result",
          "data": {
            "text/plain": [
              "array([[ 1,  2,  4],\n",
              "       [ 5,  3, -1],\n",
              "       [ 7,  2,  0]])"
            ]
          },
          "metadata": {
            "tags": []
          },
          "execution_count": 11
        }
      ]
    },
    {
      "cell_type": "code",
      "metadata": {
        "colab": {
          "base_uri": "https://localhost:8080/"
        },
        "id": "QL1HAT2d5ok0",
        "outputId": "07617414-537f-4dfa-c4b4-99c1e04a06bc"
      },
      "source": [
        "det(A)"
      ],
      "execution_count": null,
      "outputs": [
        {
          "output_type": "execute_result",
          "data": {
            "text/plain": [
              "-56.00000000000002"
            ]
          },
          "metadata": {
            "tags": []
          },
          "execution_count": 12
        }
      ]
    },
    {
      "cell_type": "code",
      "metadata": {
        "id": "Rq5smRY35tmN"
      },
      "source": [
        "B = np.array([[1,2,4,5,6,7],[5,3,-1,5,1,2],[7,2,0,1,4,9],[1,2,1,5,6,5],[-7,2,4,-1,6,6],[0,2,5,5,9,7]])"
      ],
      "execution_count": null,
      "outputs": []
    },
    {
      "cell_type": "code",
      "metadata": {
        "colab": {
          "base_uri": "https://localhost:8080/"
        },
        "id": "6X9IxAz66wkK",
        "outputId": "6644421a-272c-4359-9da8-ee494f7ba910"
      },
      "source": [
        "B.shape"
      ],
      "execution_count": null,
      "outputs": [
        {
          "output_type": "execute_result",
          "data": {
            "text/plain": [
              "(6, 6)"
            ]
          },
          "metadata": {
            "tags": []
          },
          "execution_count": 15
        }
      ]
    },
    {
      "cell_type": "code",
      "metadata": {
        "colab": {
          "base_uri": "https://localhost:8080/"
        },
        "id": "YGlMC_jH6ySS",
        "outputId": "8d825c51-30da-441a-96d2-c77a61ca7aab"
      },
      "source": [
        "det(B)"
      ],
      "execution_count": null,
      "outputs": [
        {
          "output_type": "execute_result",
          "data": {
            "text/plain": [
              "8184.000000000006"
            ]
          },
          "metadata": {
            "tags": []
          },
          "execution_count": 16
        }
      ]
    },
    {
      "cell_type": "code",
      "metadata": {
        "id": "pz5ZucRm66BS"
      },
      "source": [
        "''' Propriedade dos determinantes '''\r\n",
        "import numpy as np\r\n",
        "from numpy.linalg import det"
      ],
      "execution_count": 10,
      "outputs": []
    },
    {
      "cell_type": "code",
      "metadata": {
        "id": "R9FgvhZEDJ0S"
      },
      "source": [
        "A = np.array(([1,2,4],[5,3,-1],[7,2,0]))\r\n",
        "Az = np.zeros([3,3])"
      ],
      "execution_count": 11,
      "outputs": []
    },
    {
      "cell_type": "code",
      "metadata": {
        "colab": {
          "base_uri": "https://localhost:8080/"
        },
        "id": "MsYqbpisDknU",
        "outputId": "a6b64b7d-2f89-4457-c7d0-6b00d114bc89"
      },
      "source": [
        "# Matriz A\r\n",
        "A"
      ],
      "execution_count": 12,
      "outputs": [
        {
          "output_type": "execute_result",
          "data": {
            "text/plain": [
              "array([[ 1,  2,  4],\n",
              "       [ 5,  3, -1],\n",
              "       [ 7,  2,  0]])"
            ]
          },
          "metadata": {
            "tags": []
          },
          "execution_count": 12
        }
      ]
    },
    {
      "cell_type": "code",
      "metadata": {
        "colab": {
          "base_uri": "https://localhost:8080/"
        },
        "id": "nsk_3xn_Dros",
        "outputId": "0ef0d2df-bb60-4560-e348-c26f1ce9d7ab"
      },
      "source": [
        "# Matriz\r\n",
        "Az"
      ],
      "execution_count": 13,
      "outputs": [
        {
          "output_type": "execute_result",
          "data": {
            "text/plain": [
              "array([[0., 0., 0.],\n",
              "       [0., 0., 0.],\n",
              "       [0., 0., 0.]])"
            ]
          },
          "metadata": {
            "tags": []
          },
          "execution_count": 13
        }
      ]
    },
    {
      "cell_type": "code",
      "metadata": {
        "colab": {
          "base_uri": "https://localhost:8080/"
        },
        "id": "PjQhE0U8DvPk",
        "outputId": "cbfb09af-b490-4857-e728-b27cba754af3"
      },
      "source": [
        "# 1) det(Az) = 0\r\n",
        "det(Az)"
      ],
      "execution_count": 14,
      "outputs": [
        {
          "output_type": "execute_result",
          "data": {
            "text/plain": [
              "0.0"
            ]
          },
          "metadata": {
            "tags": []
          },
          "execution_count": 14
        }
      ]
    },
    {
      "cell_type": "code",
      "metadata": {
        "colab": {
          "base_uri": "https://localhost:8080/"
        },
        "id": "KzySn7HxD0D0",
        "outputId": "31748cd2-9a83-404e-c3b6-29108bd25da5"
      },
      "source": [
        "# 2) det(A) = det(A.T)\r\n",
        "det(A)"
      ],
      "execution_count": 16,
      "outputs": [
        {
          "output_type": "execute_result",
          "data": {
            "text/plain": [
              "-56.00000000000002"
            ]
          },
          "metadata": {
            "tags": []
          },
          "execution_count": 16
        }
      ]
    },
    {
      "cell_type": "code",
      "metadata": {
        "colab": {
          "base_uri": "https://localhost:8080/"
        },
        "id": "u2eJJlfqHEZO",
        "outputId": "ebabe34f-187a-410e-cbd5-867d06fda732"
      },
      "source": [
        "det(A.T)"
      ],
      "execution_count": 17,
      "outputs": [
        {
          "output_type": "execute_result",
          "data": {
            "text/plain": [
              "-55.99999999999997"
            ]
          },
          "metadata": {
            "tags": []
          },
          "execution_count": 17
        }
      ]
    },
    {
      "cell_type": "code",
      "metadata": {
        "colab": {
          "base_uri": "https://localhost:8080/"
        },
        "id": "ZiA7r9z1Ha40",
        "outputId": "7d28b1a3-8dae-443e-fd3b-6d179b9a9d70"
      },
      "source": [
        "det(A) == det(A.T)"
      ],
      "execution_count": 19,
      "outputs": [
        {
          "output_type": "execute_result",
          "data": {
            "text/plain": [
              "False"
            ]
          },
          "metadata": {
            "tags": []
          },
          "execution_count": 19
        }
      ]
    },
    {
      "cell_type": "code",
      "metadata": {
        "colab": {
          "base_uri": "https://localhost:8080/"
        },
        "id": "o0tMbanOHdQE",
        "outputId": "a7352572-b374-4790-e423-445fb29130e1"
      },
      "source": [
        "# Se B = k*A[0,:], det(B) = k*det(A)\r\n",
        "k = 3\r\n",
        "B = A.copy()\r\n",
        "B[0,:] = k*B[0,:]\r\n",
        "B"
      ],
      "execution_count": 23,
      "outputs": [
        {
          "output_type": "execute_result",
          "data": {
            "text/plain": [
              "array([[ 3,  6, 12],\n",
              "       [ 5,  3, -1],\n",
              "       [ 7,  2,  0]])"
            ]
          },
          "metadata": {
            "tags": []
          },
          "execution_count": 23
        }
      ]
    },
    {
      "cell_type": "code",
      "metadata": {
        "colab": {
          "base_uri": "https://localhost:8080/"
        },
        "id": "58uD8pCeH2bj",
        "outputId": "8764e0e3-fe5f-4ab9-f8ee-70896fc8297d"
      },
      "source": [
        "det(B)"
      ],
      "execution_count": 24,
      "outputs": [
        {
          "output_type": "execute_result",
          "data": {
            "text/plain": [
              "-167.99999999999997"
            ]
          },
          "metadata": {
            "tags": []
          },
          "execution_count": 24
        }
      ]
    },
    {
      "cell_type": "code",
      "metadata": {
        "colab": {
          "base_uri": "https://localhost:8080/"
        },
        "id": "xOhanDc3IlIK",
        "outputId": "f7cb9bd5-d04c-4ca2-e7d6-c009a91f4f7b"
      },
      "source": [
        "k*det(A)"
      ],
      "execution_count": 26,
      "outputs": [
        {
          "output_type": "execute_result",
          "data": {
            "text/plain": [
              "-168.00000000000006"
            ]
          },
          "metadata": {
            "tags": []
          },
          "execution_count": 26
        }
      ]
    },
    {
      "cell_type": "code",
      "metadata": {
        "colab": {
          "base_uri": "https://localhost:8080/"
        },
        "id": "g484S1H5IpTx",
        "outputId": "680edf33-fbdd-49c6-b002-66fe92e4795d"
      },
      "source": [
        "det(B) == k*det(A)"
      ],
      "execution_count": 27,
      "outputs": [
        {
          "output_type": "execute_result",
          "data": {
            "text/plain": [
              "False"
            ]
          },
          "metadata": {
            "tags": []
          },
          "execution_count": 27
        }
      ]
    },
    {
      "cell_type": "code",
      "metadata": {
        "id": "q70ipjcvIyYh"
      },
      "source": [
        "# 4) Se trocarmos a posição de duas linhas e det muda de sinal\r\n",
        "L1 = A[0,:] # linha 1\r\n",
        "L2 = A[1,:] # linha 2\r\n",
        "L3 = A[2,:] # linha 3"
      ],
      "execution_count": 29,
      "outputs": []
    },
    {
      "cell_type": "code",
      "metadata": {
        "colab": {
          "base_uri": "https://localhost:8080/"
        },
        "id": "dMk_kBnaJPp4",
        "outputId": "ad178796-967a-4e82-d007-399b66001460"
      },
      "source": [
        "C = np.array([L2,L1,L3])\r\n",
        "C"
      ],
      "execution_count": 31,
      "outputs": [
        {
          "output_type": "execute_result",
          "data": {
            "text/plain": [
              "array([[ 5,  3, -1],\n",
              "       [ 1,  2,  4],\n",
              "       [ 7,  2,  0]])"
            ]
          },
          "metadata": {
            "tags": []
          },
          "execution_count": 31
        }
      ]
    },
    {
      "cell_type": "code",
      "metadata": {
        "colab": {
          "base_uri": "https://localhost:8080/"
        },
        "id": "TB155mWqJr_n",
        "outputId": "b768274a-6976-466e-eb1e-ac2f1e1adb46"
      },
      "source": [
        "det(C)"
      ],
      "execution_count": 32,
      "outputs": [
        {
          "output_type": "execute_result",
          "data": {
            "text/plain": [
              "56.00000000000002"
            ]
          },
          "metadata": {
            "tags": []
          },
          "execution_count": 32
        }
      ]
    },
    {
      "cell_type": "code",
      "metadata": {
        "colab": {
          "base_uri": "https://localhost:8080/"
        },
        "id": "C0JIZO8kJx9H",
        "outputId": "aace25ae-8c3e-44e3-8e55-39523046f384"
      },
      "source": [
        "det(A)"
      ],
      "execution_count": 33,
      "outputs": [
        {
          "output_type": "execute_result",
          "data": {
            "text/plain": [
              "-56.00000000000002"
            ]
          },
          "metadata": {
            "tags": []
          },
          "execution_count": 33
        }
      ]
    },
    {
      "cell_type": "code",
      "metadata": {
        "colab": {
          "base_uri": "https://localhost:8080/"
        },
        "id": "hlZVIY0sJ0AR",
        "outputId": "9b66e8d5-814d-40bf-b3a3-a8f2b4585ee9"
      },
      "source": [
        "# 5) Matrizes com duas linhas iguais -> det = 0\r\n",
        "D = np.array([L1,L1,L2])\r\n",
        "D"
      ],
      "execution_count": 35,
      "outputs": [
        {
          "output_type": "execute_result",
          "data": {
            "text/plain": [
              "array([[ 1,  2,  4],\n",
              "       [ 1,  2,  4],\n",
              "       [ 5,  3, -1]])"
            ]
          },
          "metadata": {
            "tags": []
          },
          "execution_count": 35
        }
      ]
    },
    {
      "cell_type": "code",
      "metadata": {
        "colab": {
          "base_uri": "https://localhost:8080/"
        },
        "id": "NLZp7r0TKPue",
        "outputId": "0ef5c26d-59d7-4dee-92c8-efe045163415"
      },
      "source": [
        "det(D)"
      ],
      "execution_count": 36,
      "outputs": [
        {
          "output_type": "execute_result",
          "data": {
            "text/plain": [
              "0.0"
            ]
          },
          "metadata": {
            "tags": []
          },
          "execution_count": 36
        }
      ]
    },
    {
      "cell_type": "code",
      "metadata": {
        "colab": {
          "base_uri": "https://localhost:8080/"
        },
        "id": "oT_T3s6gKUfN",
        "outputId": "db43e8f4-f093-4ac4-b752-9cd59e39a8b2"
      },
      "source": [
        "# 6) det(A+B) != det(A) + det(B)\r\n",
        "A = np.array(([1,2,4],[5,3,-1],[7,2,0]))\r\n",
        "B = np.array(([0,5,4],[8,2,1],[9,-2,3]))\r\n",
        "np.array_equal(det(A+B),det(A)+det(B))"
      ],
      "execution_count": 40,
      "outputs": [
        {
          "output_type": "execute_result",
          "data": {
            "text/plain": [
              "False"
            ]
          },
          "metadata": {
            "tags": []
          },
          "execution_count": 40
        }
      ]
    },
    {
      "cell_type": "code",
      "metadata": {
        "colab": {
          "base_uri": "https://localhost:8080/"
        },
        "id": "cfYERXCQMTbS",
        "outputId": "fe0ed151-68f9-485e-b431-a6e2abb454c1"
      },
      "source": [
        "det(A+B)"
      ],
      "execution_count": 41,
      "outputs": [
        {
          "output_type": "execute_result",
          "data": {
            "text/plain": [
              "-897.9999999999995"
            ]
          },
          "metadata": {
            "tags": []
          },
          "execution_count": 41
        }
      ]
    },
    {
      "cell_type": "code",
      "metadata": {
        "colab": {
          "base_uri": "https://localhost:8080/"
        },
        "id": "gQ69MWgeMWsq",
        "outputId": "83f74be1-4e21-4fad-f3ae-3d2e6408c03c"
      },
      "source": [
        "det(A) + det(B)"
      ],
      "execution_count": 42,
      "outputs": [
        {
          "output_type": "execute_result",
          "data": {
            "text/plain": [
              "-266.9999999999999"
            ]
          },
          "metadata": {
            "tags": []
          },
          "execution_count": 42
        }
      ]
    },
    {
      "cell_type": "code",
      "metadata": {
        "colab": {
          "base_uri": "https://localhost:8080/"
        },
        "id": "_DIr3eTgK_a0",
        "outputId": "7fea6f87-d89a-4849-f25c-e3339e085f9e"
      },
      "source": [
        "# 7) det(A.dot(B)) = det(A)*det(B)\r\n",
        "det(A.dot(B))"
      ],
      "execution_count": 43,
      "outputs": [
        {
          "output_type": "execute_result",
          "data": {
            "text/plain": [
              "11815.999999999996"
            ]
          },
          "metadata": {
            "tags": []
          },
          "execution_count": 43
        }
      ]
    },
    {
      "cell_type": "code",
      "metadata": {
        "colab": {
          "base_uri": "https://localhost:8080/"
        },
        "id": "IfwomkOVMKdy",
        "outputId": "f45a843f-4c83-4bef-b26d-39be75eb95ae"
      },
      "source": [
        "det(A)*det(B)"
      ],
      "execution_count": 44,
      "outputs": [
        {
          "output_type": "execute_result",
          "data": {
            "text/plain": [
              "11815.999999999996"
            ]
          },
          "metadata": {
            "tags": []
          },
          "execution_count": 44
        }
      ]
    },
    {
      "cell_type": "code",
      "metadata": {
        "id": "Nyo3n2XdMOUp"
      },
      "source": [
        ""
      ],
      "execution_count": 44,
      "outputs": []
    }
  ]
}