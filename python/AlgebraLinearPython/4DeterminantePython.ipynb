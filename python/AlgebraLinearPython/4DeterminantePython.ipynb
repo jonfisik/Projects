{
  "nbformat": 4,
  "nbformat_minor": 0,
  "metadata": {
    "colab": {
      "name": "4DeterminantePython.ipynb",
      "provenance": [],
      "authorship_tag": "ABX9TyMAMAOHKWgxZe2hgJp4w62l",
      "include_colab_link": true
    },
    "kernelspec": {
      "name": "python3",
      "display_name": "Python 3"
    }
  },
  "cells": [
    {
      "cell_type": "markdown",
      "metadata": {
        "id": "view-in-github",
        "colab_type": "text"
      },
      "source": [
        "<a href=\"https://colab.research.google.com/github/jonfisik/Projects/blob/master/python/AlgebraLinearPython/4DeterminantePython.ipynb\" target=\"_parent\"><img src=\"https://colab.research.google.com/assets/colab-badge.svg\" alt=\"Open In Colab\"/></a>"
      ]
    },
    {
      "cell_type": "code",
      "metadata": {
        "id": "IKCwKRza30AH"
      },
      "source": [
        "import numpy as np"
      ],
      "execution_count": null,
      "outputs": []
    },
    {
      "cell_type": "code",
      "metadata": {
        "id": "O9MT9MI63-Tb"
      },
      "source": [
        "A = np.array([[1,2,4],[5,3,-1],[7,2,0]])\r\n",
        "A"
      ],
      "execution_count": null,
      "outputs": []
    },
    {
      "cell_type": "code",
      "metadata": {
        "id": "pK9GyfK04RkJ"
      },
      "source": [
        "det_A = np.linalg.det(A)"
      ],
      "execution_count": null,
      "outputs": []
    },
    {
      "cell_type": "code",
      "metadata": {
        "id": "hcxHPZq14ZrI"
      },
      "source": [
        "det_A"
      ],
      "execution_count": null,
      "outputs": []
    },
    {
      "cell_type": "code",
      "metadata": {
        "id": "aHDG8w3L4bCh"
      },
      "source": [
        "?np.linalg.det"
      ],
      "execution_count": null,
      "outputs": []
    },
    {
      "cell_type": "code",
      "metadata": {
        "id": "hqf4MSdQ443O"
      },
      "source": [
        "a = np.array([[1, 2], [3, 4]])\r\n",
        "np.linalg.det(a)"
      ],
      "execution_count": null,
      "outputs": []
    },
    {
      "cell_type": "code",
      "metadata": {
        "id": "Ewu2jAQg5Izm"
      },
      "source": [
        "from numpy.linalg import det"
      ],
      "execution_count": null,
      "outputs": []
    },
    {
      "cell_type": "code",
      "metadata": {
        "id": "m9o_-rxq5nbW"
      },
      "source": [
        "A"
      ],
      "execution_count": null,
      "outputs": []
    },
    {
      "cell_type": "code",
      "metadata": {
        "id": "QL1HAT2d5ok0"
      },
      "source": [
        "det(A)"
      ],
      "execution_count": null,
      "outputs": []
    },
    {
      "cell_type": "code",
      "metadata": {
        "id": "Rq5smRY35tmN"
      },
      "source": [
        "B = np.array([[1,2,4,5,6,7],[5,3,-1,5,1,2],[7,2,0,1,4,9],[1,2,1,5,6,5],[-7,2,4,-1,6,6],[0,2,5,5,9,7]])"
      ],
      "execution_count": null,
      "outputs": []
    },
    {
      "cell_type": "code",
      "metadata": {
        "id": "6X9IxAz66wkK"
      },
      "source": [
        "B.shape"
      ],
      "execution_count": null,
      "outputs": []
    },
    {
      "cell_type": "code",
      "metadata": {
        "id": "YGlMC_jH6ySS"
      },
      "source": [
        "det(B)"
      ],
      "execution_count": null,
      "outputs": []
    },
    {
      "cell_type": "code",
      "metadata": {
        "id": "pz5ZucRm66BS"
      },
      "source": [
        "''' Propriedade dos determinantes '''\r\n",
        "import numpy as np\r\n",
        "from numpy.linalg import det"
      ],
      "execution_count": null,
      "outputs": []
    },
    {
      "cell_type": "code",
      "metadata": {
        "id": "R9FgvhZEDJ0S"
      },
      "source": [
        "A = np.array(([1,2,4],[5,3,-1],[7,2,0]))\r\n",
        "Az = np.zeros([3,3])"
      ],
      "execution_count": null,
      "outputs": []
    },
    {
      "cell_type": "code",
      "metadata": {
        "id": "MsYqbpisDknU"
      },
      "source": [
        "# Matriz A\r\n",
        "A"
      ],
      "execution_count": null,
      "outputs": []
    },
    {
      "cell_type": "code",
      "metadata": {
        "id": "nsk_3xn_Dros"
      },
      "source": [
        "# Matriz\r\n",
        "Az"
      ],
      "execution_count": null,
      "outputs": []
    },
    {
      "cell_type": "code",
      "metadata": {
        "id": "PjQhE0U8DvPk"
      },
      "source": [
        "# 1) det(Az) = 0\r\n",
        "det(Az)"
      ],
      "execution_count": null,
      "outputs": []
    },
    {
      "cell_type": "code",
      "metadata": {
        "id": "KzySn7HxD0D0"
      },
      "source": [
        "# 2) det(A) = det(A.T)\r\n",
        "det(A)"
      ],
      "execution_count": null,
      "outputs": []
    },
    {
      "cell_type": "code",
      "metadata": {
        "id": "u2eJJlfqHEZO"
      },
      "source": [
        "det(A.T)"
      ],
      "execution_count": null,
      "outputs": []
    },
    {
      "cell_type": "code",
      "metadata": {
        "id": "ZiA7r9z1Ha40"
      },
      "source": [
        "det(A) == det(A.T)"
      ],
      "execution_count": null,
      "outputs": []
    },
    {
      "cell_type": "code",
      "metadata": {
        "id": "o0tMbanOHdQE"
      },
      "source": [
        "# Se B = k*A[0,:], det(B) = k*det(A)\r\n",
        "k = 3\r\n",
        "B = A.copy()\r\n",
        "B[0,:] = k*B[0,:]\r\n",
        "B"
      ],
      "execution_count": null,
      "outputs": []
    },
    {
      "cell_type": "code",
      "metadata": {
        "id": "58uD8pCeH2bj"
      },
      "source": [
        "det(B)"
      ],
      "execution_count": null,
      "outputs": []
    },
    {
      "cell_type": "code",
      "metadata": {
        "id": "xOhanDc3IlIK"
      },
      "source": [
        "k*det(A)"
      ],
      "execution_count": null,
      "outputs": []
    },
    {
      "cell_type": "code",
      "metadata": {
        "id": "g484S1H5IpTx"
      },
      "source": [
        "det(B) == k*det(A)"
      ],
      "execution_count": null,
      "outputs": []
    },
    {
      "cell_type": "code",
      "metadata": {
        "id": "q70ipjcvIyYh"
      },
      "source": [
        "# 4) Se trocarmos a posição de duas linhas e det muda de sinal\r\n",
        "L1 = A[0,:] # linha 1\r\n",
        "L2 = A[1,:] # linha 2\r\n",
        "L3 = A[2,:] # linha 3"
      ],
      "execution_count": null,
      "outputs": []
    },
    {
      "cell_type": "code",
      "metadata": {
        "id": "dMk_kBnaJPp4"
      },
      "source": [
        "C = np.array([L2,L1,L3])\r\n",
        "C"
      ],
      "execution_count": null,
      "outputs": []
    },
    {
      "cell_type": "code",
      "metadata": {
        "id": "TB155mWqJr_n"
      },
      "source": [
        "det(C)"
      ],
      "execution_count": null,
      "outputs": []
    },
    {
      "cell_type": "code",
      "metadata": {
        "id": "C0JIZO8kJx9H"
      },
      "source": [
        "det(A)"
      ],
      "execution_count": null,
      "outputs": []
    },
    {
      "cell_type": "code",
      "metadata": {
        "id": "hlZVIY0sJ0AR"
      },
      "source": [
        "# 5) Matrizes com duas linhas iguais -> det = 0\r\n",
        "D = np.array([L1,L1,L2])\r\n",
        "D"
      ],
      "execution_count": null,
      "outputs": []
    },
    {
      "cell_type": "code",
      "metadata": {
        "id": "NLZp7r0TKPue"
      },
      "source": [
        "det(D)"
      ],
      "execution_count": null,
      "outputs": []
    },
    {
      "cell_type": "code",
      "metadata": {
        "id": "oT_T3s6gKUfN"
      },
      "source": [
        "# 6) det(A+B) != det(A) + det(B)\r\n",
        "A = np.array(([1,2,4],[5,3,-1],[7,2,0]))\r\n",
        "B = np.array(([0,5,4],[8,2,1],[9,-2,3]))\r\n",
        "np.array_equal(det(A+B),det(A)+det(B))"
      ],
      "execution_count": null,
      "outputs": []
    },
    {
      "cell_type": "code",
      "metadata": {
        "id": "cfYERXCQMTbS"
      },
      "source": [
        "det(A+B)"
      ],
      "execution_count": null,
      "outputs": []
    },
    {
      "cell_type": "code",
      "metadata": {
        "id": "gQ69MWgeMWsq"
      },
      "source": [
        "det(A) + det(B)"
      ],
      "execution_count": null,
      "outputs": []
    },
    {
      "cell_type": "code",
      "metadata": {
        "id": "_DIr3eTgK_a0"
      },
      "source": [
        "# 7) det(A.dot(B)) = det(A)*det(B)\r\n",
        "det(A.dot(B))"
      ],
      "execution_count": null,
      "outputs": []
    },
    {
      "cell_type": "code",
      "metadata": {
        "id": "IfwomkOVMKdy"
      },
      "source": [
        "det(A)*det(B)"
      ],
      "execution_count": null,
      "outputs": []
    },
    {
      "cell_type": "code",
      "metadata": {
        "id": "Nyo3n2XdMOUp"
      },
      "source": [
        ""
      ],
      "execution_count": null,
      "outputs": []
    }
  ]
}