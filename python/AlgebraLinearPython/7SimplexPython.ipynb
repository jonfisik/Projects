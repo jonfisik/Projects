{
  "nbformat": 4,
  "nbformat_minor": 0,
  "metadata": {
    "colab": {
      "name": "7EspacosVetoriaisPython.ipynb",
      "provenance": [],
      "authorship_tag": "ABX9TyN7r4kwingD4jG+NKQJR46k",
      "include_colab_link": true
    },
    "kernelspec": {
      "name": "python3",
      "display_name": "Python 3"
    }
  },
  "cells": [
    {
      "cell_type": "markdown",
      "metadata": {
        "id": "view-in-github",
        "colab_type": "text"
      },
      "source": [
        "<a href=\"https://colab.research.google.com/github/jonfisik/Projects/blob/master/python/AlgebraLinearPython/7SimplexPython.ipynb\" target=\"_parent\"><img src=\"https://colab.research.google.com/assets/colab-badge.svg\" alt=\"Open In Colab\"/></a>"
      ]
    },
    {
      "cell_type": "code",
      "metadata": {
        "id": "_aaSxS_Y0mLF"
      },
      "source": [
        "import numpy as np\r\n",
        "from scipy.optimize import linprog"
      ],
      "execution_count": null,
      "outputs": []
    },
    {
      "cell_type": "code",
      "metadata": {
        "id": "Qgs3pNAiPw3q"
      },
      "source": [
        "c = [0.0037, 00.0024, 0.0014, 0.0030, 0.0024, 0.0019, 0.0028, 0.0018, 0.0025, 0.0024]\r\n",
        "c = np.multiply(-1.0,c)\r\n",
        "\r\n",
        "A_eq = np.ones((1,10)) # Condição de igualdade\r\n",
        "b_eq = np.array([1.0]) # Condição de igualdade"
      ],
      "execution_count": null,
      "outputs": []
    },
    {
      "cell_type": "code",
      "metadata": {
        "id": "W645vhFXQpbd"
      },
      "source": [
        "A_ub = np.append(np.eye(10), -1.0*np.eye(10), axis=0) # para as inequações\r\n",
        "b_ub = np.append(0.30*np.ones((10,)), np.zeros((10,)) axis=0) # para as inequações"
      ],
      "execution_count": null,
      "outputs": []
    },
    {
      "cell_type": "code",
      "metadata": {
        "id": "A1YEv0ZySS8t"
      },
      "source": [
        "A_ub"
      ],
      "execution_count": null,
      "outputs": []
    },
    {
      "cell_type": "code",
      "metadata": {
        "id": "ZZVF1Fh8SWGj"
      },
      "source": [
        "A_ub = np.append(A_ub, [[0.0248, 0.0216, 0.0195, 0.0293, 0.0240, 0.0200, 0.0263, 0.0214, 0.0273, 0.0247]], axis=0)\r\n",
        "b_ub = np.append(b_ub, [0.0250])"
      ],
      "execution_count": null,
      "outputs": []
    },
    {
      "cell_type": "code",
      "metadata": {
        "id": "wOzrufExTN2I"
      },
      "source": [
        "A_ub"
      ],
      "execution_count": null,
      "outputs": []
    },
    {
      "cell_type": "code",
      "metadata": {
        "id": "Ro4UqUE6TPQk"
      },
      "source": [
        "res = linprog(c, A_eq=A_eq, b_eq=b_eq, A_ub=A_ub, b_ub=b_ub, method='simplex', options = {'disp': True, 'maxiter': 1000})"
      ],
      "execution_count": null,
      "outputs": []
    },
    {
      "cell_type": "code",
      "metadata": {
        "id": "bk5xgWWIT48v"
      },
      "source": [
        "print('Valor ótimo: ', -res.fun)\r\n",
        "print( 'X:')\r\n",
        "for k, xk in enumerate(res.x):\r\n",
        "  print('x_{\", str(k+1)\"} = ', xk)"
      ],
      "execution_count": null,
      "outputs": []
    }
  ]
}