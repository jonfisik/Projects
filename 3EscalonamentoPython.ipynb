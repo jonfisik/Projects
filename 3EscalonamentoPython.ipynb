{
  "nbformat": 4,
  "nbformat_minor": 0,
  "metadata": {
    "colab": {
      "name": "3EscalonamentoPython.ipynb",
      "provenance": [],
      "collapsed_sections": [],
      "authorship_tag": "ABX9TyNQvbOuXoeWle0HF0cHDL9s",
      "include_colab_link": true
    },
    "kernelspec": {
      "name": "python3",
      "display_name": "Python 3"
    }
  },
  "cells": [
    {
      "cell_type": "markdown",
      "metadata": {
        "id": "view-in-github",
        "colab_type": "text"
      },
      "source": [
        "<a href=\"https://colab.research.google.com/github/jonfisik/Projects/blob/master/3EscalonamentoPython.ipynb\" target=\"_parent\"><img src=\"https://colab.research.google.com/assets/colab-badge.svg\" alt=\"Open In Colab\"/></a>"
      ]
    },
    {
      "cell_type": "code",
      "metadata": {
        "id": "d-483GRS13wO"
      },
      "source": [
        "import numpy as np  "
      ],
      "execution_count": 1,
      "outputs": []
    },
    {
      "cell_type": "code",
      "metadata": {
        "colab": {
          "base_uri": "https://localhost:8080/"
        },
        "id": "SdPMT1Ri2Kvd",
        "outputId": "ccfdbbdd-e74a-4438-cc98-740360d02ea0"
      },
      "source": [
        "M = np.array([[1,4,3,1],[2,5,4,4],[1,-3,-2,5]])\r\n",
        "M"
      ],
      "execution_count": 44,
      "outputs": [
        {
          "output_type": "execute_result",
          "data": {
            "text/plain": [
              "array([[ 1,  4,  3,  1],\n",
              "       [ 2,  5,  4,  4],\n",
              "       [ 1, -3, -2,  5]])"
            ]
          },
          "metadata": {
            "tags": []
          },
          "execution_count": 44
        }
      ]
    },
    {
      "cell_type": "code",
      "metadata": {
        "colab": {
          "base_uri": "https://localhost:8080/"
        },
        "id": "LZHwvlXk2j9y",
        "outputId": "ba1b11bf-e56b-4429-e0d8-8dec3d22f0a6"
      },
      "source": [
        "M[1,:] = -2*M[0,:] + M[1,:]\r\n",
        "M"
      ],
      "execution_count": 45,
      "outputs": [
        {
          "output_type": "execute_result",
          "data": {
            "text/plain": [
              "array([[ 1,  4,  3,  1],\n",
              "       [ 0, -3, -2,  2],\n",
              "       [ 1, -3, -2,  5]])"
            ]
          },
          "metadata": {
            "tags": []
          },
          "execution_count": 45
        }
      ]
    },
    {
      "cell_type": "code",
      "metadata": {
        "colab": {
          "base_uri": "https://localhost:8080/"
        },
        "id": "NdicNfyN2z55",
        "outputId": "37317a18-4474-4e16-cd26-e605cdcb9e12"
      },
      "source": [
        "M[2,:] = -1*M[0,:] + M[2,:]\r\n",
        "M"
      ],
      "execution_count": 46,
      "outputs": [
        {
          "output_type": "execute_result",
          "data": {
            "text/plain": [
              "array([[ 1,  4,  3,  1],\n",
              "       [ 0, -3, -2,  2],\n",
              "       [ 0, -7, -5,  4]])"
            ]
          },
          "metadata": {
            "tags": []
          },
          "execution_count": 46
        }
      ]
    },
    {
      "cell_type": "code",
      "metadata": {
        "colab": {
          "base_uri": "https://localhost:8080/"
        },
        "id": "LoU11Kbk3Byp",
        "outputId": "21c6774c-c151-4ac8-f3a5-773dcc0a0cf3"
      },
      "source": [
        "M[1,:] = -1/3*M[1,:]\r\n",
        "M"
      ],
      "execution_count": 47,
      "outputs": [
        {
          "output_type": "execute_result",
          "data": {
            "text/plain": [
              "array([[ 1,  4,  3,  1],\n",
              "       [ 0,  1,  0,  0],\n",
              "       [ 0, -7, -5,  4]])"
            ]
          },
          "metadata": {
            "tags": []
          },
          "execution_count": 47
        }
      ]
    },
    {
      "cell_type": "code",
      "metadata": {
        "colab": {
          "base_uri": "https://localhost:8080/"
        },
        "id": "AP_Zb2VA3N-Q",
        "outputId": "ab9ff289-2426-4cb9-a038-34b54505c6ed"
      },
      "source": [
        "M[0,:] = -4*M[1,:] + M[0,:]\r\n",
        "M"
      ],
      "execution_count": 48,
      "outputs": [
        {
          "output_type": "execute_result",
          "data": {
            "text/plain": [
              "array([[ 1,  0,  3,  1],\n",
              "       [ 0,  1,  0,  0],\n",
              "       [ 0, -7, -5,  4]])"
            ]
          },
          "metadata": {
            "tags": []
          },
          "execution_count": 48
        }
      ]
    },
    {
      "cell_type": "code",
      "metadata": {
        "colab": {
          "base_uri": "https://localhost:8080/"
        },
        "id": "g6TZETQj3Z1p",
        "outputId": "6c76639b-1a38-44cf-cc9b-4d84511d307b"
      },
      "source": [
        "M[2,:] = 7*M[1,:] + M[2,:]\r\n",
        "M"
      ],
      "execution_count": 49,
      "outputs": [
        {
          "output_type": "execute_result",
          "data": {
            "text/plain": [
              "array([[ 1,  0,  3,  1],\n",
              "       [ 0,  1,  0,  0],\n",
              "       [ 0,  0, -5,  4]])"
            ]
          },
          "metadata": {
            "tags": []
          },
          "execution_count": 49
        }
      ]
    },
    {
      "cell_type": "code",
      "metadata": {
        "colab": {
          "base_uri": "https://localhost:8080/"
        },
        "id": "TPZnLJ014CRP",
        "outputId": "cbd1d2d0-31bb-4b91-aeb2-e98d04290f23"
      },
      "source": [
        "M[2,:] = -3*M[2,:]\r\n",
        "M"
      ],
      "execution_count": 50,
      "outputs": [
        {
          "output_type": "execute_result",
          "data": {
            "text/plain": [
              "array([[  1,   0,   3,   1],\n",
              "       [  0,   1,   0,   0],\n",
              "       [  0,   0,  15, -12]])"
            ]
          },
          "metadata": {
            "tags": []
          },
          "execution_count": 50
        }
      ]
    },
    {
      "cell_type": "code",
      "metadata": {
        "colab": {
          "base_uri": "https://localhost:8080/"
        },
        "id": "mlSDcZzt4sDE",
        "outputId": "d1772134-c03d-4cf2-e42c-f6571d3abc3e"
      },
      "source": [
        "M[1,:] = -1/3*M[2,:] + M[1,:]\r\n",
        "M"
      ],
      "execution_count": 51,
      "outputs": [
        {
          "output_type": "execute_result",
          "data": {
            "text/plain": [
              "array([[  1,   0,   3,   1],\n",
              "       [  0,   1,  -5,   4],\n",
              "       [  0,   0,  15, -12]])"
            ]
          },
          "metadata": {
            "tags": []
          },
          "execution_count": 51
        }
      ]
    },
    {
      "cell_type": "code",
      "metadata": {
        "colab": {
          "base_uri": "https://localhost:8080/"
        },
        "id": "I6tJlMKD6sVZ",
        "outputId": "804cb325-38ac-4c14-d528-314dd5dbbc60"
      },
      "source": [
        "M[0,:] = -1/3*M[2,:] + M[0,:]\r\n",
        "M"
      ],
      "execution_count": 52,
      "outputs": [
        {
          "output_type": "execute_result",
          "data": {
            "text/plain": [
              "array([[  1,   0,  -2,   5],\n",
              "       [  0,   1,  -5,   4],\n",
              "       [  0,   0,  15, -12]])"
            ]
          },
          "metadata": {
            "tags": []
          },
          "execution_count": 52
        }
      ]
    },
    {
      "cell_type": "code",
      "metadata": {
        "colab": {
          "base_uri": "https://localhost:8080/"
        },
        "id": "o8UIyrCs67DY",
        "outputId": "8539f9a4-acda-4edc-b97e-33ef495a6cf1"
      },
      "source": [
        "print(M)"
      ],
      "execution_count": 53,
      "outputs": [
        {
          "output_type": "stream",
          "text": [
            "[[  1   0  -2   5]\n",
            " [  0   1  -5   4]\n",
            " [  0   0  15 -12]]\n"
          ],
          "name": "stdout"
        }
      ]
    },
    {
      "cell_type": "code",
      "metadata": {
        "id": "YQe6H-P46_n3"
      },
      "source": [
        ""
      ],
      "execution_count": null,
      "outputs": []
    }
  ]
}