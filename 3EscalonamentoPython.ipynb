{
  "nbformat": 4,
  "nbformat_minor": 0,
  "metadata": {
    "colab": {
      "name": "3EscalonamentoPython.ipynb",
      "provenance": [],
      "collapsed_sections": [],
      "authorship_tag": "ABX9TyNwSa9T5P+gOuvFTfvNtL72",
      "include_colab_link": true
    },
    "kernelspec": {
      "name": "python3",
      "display_name": "Python 3"
    }
  },
  "cells": [
    {
      "cell_type": "markdown",
      "metadata": {
        "id": "view-in-github",
        "colab_type": "text"
      },
      "source": [
        "<a href=\"https://colab.research.google.com/github/jonfisik/Projects/blob/master/3EscalonamentoPython.ipynb\" target=\"_parent\"><img src=\"https://colab.research.google.com/assets/colab-badge.svg\" alt=\"Open In Colab\"/></a>"
      ]
    },
    {
      "cell_type": "code",
      "metadata": {
        "id": "d-483GRS13wO"
      },
      "source": [
        "import numpy as np "
      ],
      "execution_count": null,
      "outputs": []
    },
    {
      "cell_type": "code",
      "metadata": {
        "id": "SdPMT1Ri2Kvd"
      },
      "source": [
        "M = np.array([[1,4,3,1],[2,5,4,4],[1,-3,-2,5]])\r\n",
        "print(M)"
      ],
      "execution_count": null,
      "outputs": []
    },
    {
      "cell_type": "code",
      "metadata": {
        "id": "LZHwvlXk2j9y"
      },
      "source": [
        "M[1,:] = -2*M[0,:] + M[1,:]\r\n",
        "print(M)"
      ],
      "execution_count": null,
      "outputs": []
    },
    {
      "cell_type": "code",
      "metadata": {
        "id": "NdicNfyN2z55"
      },
      "source": [
        "M[2,:] = -1*M[0,:] + M[2,:]\r\n",
        "print(M)"
      ],
      "execution_count": null,
      "outputs": []
    },
    {
      "cell_type": "code",
      "metadata": {
        "id": "LoU11Kbk3Byp"
      },
      "source": [
        "M[1,:] = -1/3*M[1,:]\r\n",
        "print(M)"
      ],
      "execution_count": null,
      "outputs": []
    },
    {
      "cell_type": "code",
      "metadata": {
        "id": "AP_Zb2VA3N-Q"
      },
      "source": [
        "M[0,:] = -4*M[1,:] + M[0,:]\r\n",
        "print(M)"
      ],
      "execution_count": null,
      "outputs": []
    },
    {
      "cell_type": "code",
      "metadata": {
        "id": "g6TZETQj3Z1p"
      },
      "source": [
        "M[2,:] = 7*M[1,:] + M[2,:]\r\n",
        "print(M)"
      ],
      "execution_count": null,
      "outputs": []
    },
    {
      "cell_type": "code",
      "metadata": {
        "id": "TPZnLJ014CRP"
      },
      "source": [
        "M[2,:] = -3*M[2,:]\r\n",
        "print(M)"
      ],
      "execution_count": null,
      "outputs": []
    },
    {
      "cell_type": "code",
      "metadata": {
        "id": "mlSDcZzt4sDE"
      },
      "source": [
        "M[1,:] = -1/3*M[2,:] + M[1,:]\r\n",
        "print(M)"
      ],
      "execution_count": null,
      "outputs": []
    },
    {
      "cell_type": "code",
      "metadata": {
        "id": "I6tJlMKD6sVZ"
      },
      "source": [
        "M[0,:] = -1/3*M[2,:] + M[0,:]\r\n",
        "print(M)"
      ],
      "execution_count": null,
      "outputs": []
    },
    {
      "cell_type": "code",
      "metadata": {
        "id": "o8UIyrCs67DY"
      },
      "source": [
        "M[2,:] = M[2,:]/3\r\n",
        "print(M)"
      ],
      "execution_count": null,
      "outputs": []
    },
    {
      "cell_type": "code",
      "metadata": {
        "id": "YQe6H-P46_n3"
      },
      "source": [
        "M[1,:] = 5*M[2,:] + M[1,:]\r\n",
        "print(M)"
      ],
      "execution_count": null,
      "outputs": []
    },
    {
      "cell_type": "code",
      "metadata": {
        "id": "mxcRoYP1pWsS"
      },
      "source": [
        "M[0,:] = 2*M[2,:] + M[0,:]\r\n",
        "print(M)"
      ],
      "execution_count": null,
      "outputs": []
    },
    {
      "cell_type": "code",
      "metadata": {
        "id": "NQZtRik7pm_B"
      },
      "source": [
        ""
      ],
      "execution_count": null,
      "outputs": []
    }
  ]
}