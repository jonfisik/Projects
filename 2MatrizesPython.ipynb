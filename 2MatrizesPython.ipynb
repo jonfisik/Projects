{
  "nbformat": 4,
  "nbformat_minor": 0,
  "metadata": {
    "colab": {
      "name": "2MatrizesPython.ipynb",
      "provenance": [],
      "collapsed_sections": [],
      "authorship_tag": "ABX9TyOkAlhFyc0Ek36iAtFg18iE",
      "include_colab_link": true
    },
    "kernelspec": {
      "name": "python3",
      "display_name": "Python 3"
    }
  },
  "cells": [
    {
      "cell_type": "markdown",
      "metadata": {
        "id": "view-in-github",
        "colab_type": "text"
      },
      "source": [
        "<a href=\"https://colab.research.google.com/github/jonfisik/Projects/blob/master/2MatrizesPython.ipynb\" target=\"_parent\"><img src=\"https://colab.research.google.com/assets/colab-badge.svg\" alt=\"Open In Colab\"/></a>"
      ]
    },
    {
      "cell_type": "code",
      "metadata": {
        "id": "r0CDszVHgk7H"
      },
      "source": [
        "import numpy as np"
      ],
      "execution_count": 19,
      "outputs": []
    },
    {
      "cell_type": "code",
      "metadata": {
        "id": "uWw8n0eAh7BG"
      },
      "source": [
        "# Matrizes"
      ],
      "execution_count": 20,
      "outputs": []
    },
    {
      "cell_type": "code",
      "metadata": {
        "id": "ndv-aWUNiRcI",
        "colab": {
          "base_uri": "https://localhost:8080/"
        },
        "outputId": "2f5adc65-00b5-4e42-b9ee-426fa6e88205"
      },
      "source": [
        "'''Matriz 2 x 2'''\n",
        "A = np.array([[2,-1],[0,4]])\n",
        "A"
      ],
      "execution_count": 21,
      "outputs": [
        {
          "output_type": "execute_result",
          "data": {
            "text/plain": [
              "array([[ 2, -1],\n",
              "       [ 0,  4]])"
            ]
          },
          "metadata": {
            "tags": []
          },
          "execution_count": 21
        }
      ]
    },
    {
      "cell_type": "code",
      "metadata": {
        "id": "X1I4GL-5iSCg",
        "colab": {
          "base_uri": "https://localhost:8080/"
        },
        "outputId": "52e556ca-bf03-4757-ba9f-4d2521df4160"
      },
      "source": [
        "'''Matriz 2 x 3'''\n",
        "B = np.array([[1,0,-4],[4,-3,2]])\n",
        "B"
      ],
      "execution_count": 22,
      "outputs": [
        {
          "output_type": "execute_result",
          "data": {
            "text/plain": [
              "array([[ 1,  0, -4],\n",
              "       [ 4, -3,  2]])"
            ]
          },
          "metadata": {
            "tags": []
          },
          "execution_count": 22
        }
      ]
    },
    {
      "cell_type": "code",
      "metadata": {
        "id": "n2YyQ8Soiq8Q"
      },
      "source": [
        "# Matrizes - representação 2 (função np.matrix())"
      ],
      "execution_count": 23,
      "outputs": []
    },
    {
      "cell_type": "code",
      "metadata": {
        "id": "v_UJQbFbjhwI"
      },
      "source": [
        "?np.matrix"
      ],
      "execution_count": 24,
      "outputs": []
    },
    {
      "cell_type": "code",
      "metadata": {
        "id": "218PIQUEjpnx",
        "colab": {
          "base_uri": "https://localhost:8080/"
        },
        "outputId": "1c6c26fd-5a94-4b6a-fa35-f5c2fd722690"
      },
      "source": [
        "C = np.matrix('1 2; 3 4')\n",
        "C"
      ],
      "execution_count": 25,
      "outputs": [
        {
          "output_type": "execute_result",
          "data": {
            "text/plain": [
              "matrix([[1, 2],\n",
              "        [3, 4]])"
            ]
          },
          "metadata": {
            "tags": []
          },
          "execution_count": 25
        }
      ]
    },
    {
      "cell_type": "code",
      "metadata": {
        "id": "JVPxP3PElImz",
        "colab": {
          "base_uri": "https://localhost:8080/"
        },
        "outputId": "b1b40821-fd48-415b-f6e4-76c1ad115c37"
      },
      "source": [
        "type(C)"
      ],
      "execution_count": 26,
      "outputs": [
        {
          "output_type": "execute_result",
          "data": {
            "text/plain": [
              "numpy.matrix"
            ]
          },
          "metadata": {
            "tags": []
          },
          "execution_count": 26
        }
      ]
    },
    {
      "cell_type": "code",
      "metadata": {
        "id": "nR91HTEBjvav",
        "colab": {
          "base_uri": "https://localhost:8080/"
        },
        "outputId": "90c61640-062d-4c28-a25d-c85d4aa26cf2"
      },
      "source": [
        "np.matrix([[1,2],[3,4]])"
      ],
      "execution_count": 27,
      "outputs": [
        {
          "output_type": "execute_result",
          "data": {
            "text/plain": [
              "matrix([[1, 2],\n",
              "        [3, 4]])"
            ]
          },
          "metadata": {
            "tags": []
          },
          "execution_count": 27
        }
      ]
    },
    {
      "cell_type": "code",
      "metadata": {
        "id": "dhwOhlhJkySU",
        "colab": {
          "base_uri": "https://localhost:8080/"
        },
        "outputId": "9f131f36-7281-4c4a-cf40-db208885db61"
      },
      "source": [
        "type(C)"
      ],
      "execution_count": 28,
      "outputs": [
        {
          "output_type": "execute_result",
          "data": {
            "text/plain": [
              "numpy.matrix"
            ]
          },
          "metadata": {
            "tags": []
          },
          "execution_count": 28
        }
      ]
    },
    {
      "cell_type": "code",
      "metadata": {
        "id": "BR4KsixzlDJ0"
      },
      "source": [
        "# Tipos de matrizes no python\n"
      ],
      "execution_count": 11,
      "outputs": []
    },
    {
      "cell_type": "code",
      "metadata": {
        "id": "J80YgmEL6hSM",
        "colab": {
          "base_uri": "https://localhost:8080/"
        },
        "outputId": "371bbd1d-e872-430f-e2ed-cc3c7c719821"
      },
      "source": [
        "'''Matriz linha'''\n",
        "L1 = np.array([3,4,5])\n",
        "L1"
      ],
      "execution_count": 30,
      "outputs": [
        {
          "output_type": "execute_result",
          "data": {
            "text/plain": [
              "array([3, 4, 5])"
            ]
          },
          "metadata": {
            "tags": []
          },
          "execution_count": 30
        }
      ]
    },
    {
      "cell_type": "code",
      "metadata": {
        "id": "VfS_xqzI6wFw",
        "colab": {
          "base_uri": "https://localhost:8080/"
        },
        "outputId": "6bc78832-3985-412c-a7f5-8eccdd819a22"
      },
      "source": [
        "L2 = np.array([[3,4,6]]) \n",
        "L2"
      ],
      "execution_count": 35,
      "outputs": [
        {
          "output_type": "execute_result",
          "data": {
            "text/plain": [
              "array([[3, 4, 6]])"
            ]
          },
          "metadata": {
            "tags": []
          },
          "execution_count": 35
        }
      ]
    },
    {
      "cell_type": "code",
      "metadata": {
        "colab": {
          "base_uri": "https://localhost:8080/"
        },
        "id": "0Yq7bXtmaXaU",
        "outputId": "51777071-80dd-45d2-e711-b5d885e6d887"
      },
      "source": [
        "L3 = np.array([[0,0,0,0]])\r\n",
        "L3"
      ],
      "execution_count": 36,
      "outputs": [
        {
          "output_type": "execute_result",
          "data": {
            "text/plain": [
              "array([[0, 0, 0, 0]])"
            ]
          },
          "metadata": {
            "tags": []
          },
          "execution_count": 36
        }
      ]
    },
    {
      "cell_type": "code",
      "metadata": {
        "id": "2T6_5lA86yGY",
        "colab": {
          "base_uri": "https://localhost:8080/"
        },
        "outputId": "ebcfc287-5be5-424a-de6d-c4f41583818b"
      },
      "source": [
        "L1.shape # vetor"
      ],
      "execution_count": 32,
      "outputs": [
        {
          "output_type": "execute_result",
          "data": {
            "text/plain": [
              "(3,)"
            ]
          },
          "metadata": {
            "tags": []
          },
          "execution_count": 32
        }
      ]
    },
    {
      "cell_type": "code",
      "metadata": {
        "id": "UsCfviBG7ZRJ",
        "colab": {
          "base_uri": "https://localhost:8080/"
        },
        "outputId": "0d10dc0d-50f1-48c1-ed9b-5ddda84c8b4a"
      },
      "source": [
        "L2.shape # matriz"
      ],
      "execution_count": 37,
      "outputs": [
        {
          "output_type": "execute_result",
          "data": {
            "text/plain": [
              "(1, 3)"
            ]
          },
          "metadata": {
            "tags": []
          },
          "execution_count": 37
        }
      ]
    },
    {
      "cell_type": "code",
      "metadata": {
        "colab": {
          "base_uri": "https://localhost:8080/"
        },
        "id": "vgvDN2wwavI7",
        "outputId": "6c8dc386-dea8-4e7c-d6a4-0909b7c487d6"
      },
      "source": [
        "L3.shape # matriz"
      ],
      "execution_count": 38,
      "outputs": [
        {
          "output_type": "execute_result",
          "data": {
            "text/plain": [
              "(1, 4)"
            ]
          },
          "metadata": {
            "tags": []
          },
          "execution_count": 38
        }
      ]
    },
    {
      "cell_type": "code",
      "metadata": {
        "id": "Dge3RZqp7bE3",
        "colab": {
          "base_uri": "https://localhost:8080/"
        },
        "outputId": "35f5bc7f-aad0-441d-c36d-0a0caff87952"
      },
      "source": [
        "''' Matriz coluna'''\n",
        "C1 = np.array([[1],[3],[7]]) # cada colchete é uma linha. E cada casa depois da virgula uma coluna\n",
        "C1"
      ],
      "execution_count": 40,
      "outputs": [
        {
          "output_type": "execute_result",
          "data": {
            "text/plain": [
              "array([[1],\n",
              "       [3],\n",
              "       [7]])"
            ]
          },
          "metadata": {
            "tags": []
          },
          "execution_count": 40
        }
      ]
    },
    {
      "cell_type": "code",
      "metadata": {
        "id": "zL5AGkxl8G5O",
        "colab": {
          "base_uri": "https://localhost:8080/"
        },
        "outputId": "69a86988-13d2-4f7c-eee5-3fa25dc8a7ec"
      },
      "source": [
        "C1.shape # (linha,coluna)"
      ],
      "execution_count": 41,
      "outputs": [
        {
          "output_type": "execute_result",
          "data": {
            "text/plain": [
              "(3, 1)"
            ]
          },
          "metadata": {
            "tags": []
          },
          "execution_count": 41
        }
      ]
    },
    {
      "cell_type": "code",
      "metadata": {
        "colab": {
          "base_uri": "https://localhost:8080/"
        },
        "id": "cf-tp9owa5Vh",
        "outputId": "29b5b978-c489-45de-f8d6-64284afa493a"
      },
      "source": [
        "C2 = np.array([[0],[0],[0],[0]])\r\n",
        "C2"
      ],
      "execution_count": 43,
      "outputs": [
        {
          "output_type": "execute_result",
          "data": {
            "text/plain": [
              "array([[0],\n",
              "       [0],\n",
              "       [0],\n",
              "       [0]])"
            ]
          },
          "metadata": {
            "tags": []
          },
          "execution_count": 43
        }
      ]
    },
    {
      "cell_type": "code",
      "metadata": {
        "id": "TPtMeFhA8qSk",
        "colab": {
          "base_uri": "https://localhost:8080/"
        },
        "outputId": "a4a84789-d446-4005-e62c-56930f142dda"
      },
      "source": [
        "''' Matriz nula '''\n",
        "N = np.zeros([2,2]) # função zeros\n",
        "N"
      ],
      "execution_count": 44,
      "outputs": [
        {
          "output_type": "execute_result",
          "data": {
            "text/plain": [
              "array([[0., 0.],\n",
              "       [0., 0.]])"
            ]
          },
          "metadata": {
            "tags": []
          },
          "execution_count": 44
        }
      ]
    },
    {
      "cell_type": "code",
      "metadata": {
        "id": "p0Z4Dpnj9Ryv"
      },
      "source": [
        "?np.zeros"
      ],
      "execution_count": null,
      "outputs": []
    },
    {
      "cell_type": "code",
      "metadata": {
        "id": "SRNHxpxN9aya",
        "colab": {
          "base_uri": "https://localhost:8080/"
        },
        "outputId": "f4c93cc7-4709-4aa1-f1ec-b2a25b0229ed"
      },
      "source": [
        "N1 = np.zeros((2,2)) # paranteses\n",
        "N1"
      ],
      "execution_count": 45,
      "outputs": [
        {
          "output_type": "execute_result",
          "data": {
            "text/plain": [
              "array([[0., 0.],\n",
              "       [0., 0.]])"
            ]
          },
          "metadata": {
            "tags": []
          },
          "execution_count": 45
        }
      ]
    },
    {
      "cell_type": "code",
      "metadata": {
        "id": "LRPh6mMe9kvb",
        "colab": {
          "base_uri": "https://localhost:8080/"
        },
        "outputId": "2b41eb46-aaba-4b18-8a15-ea495ff32f55"
      },
      "source": [
        "N2 = np.zeros([5,5]) # colchetes\n",
        "N2"
      ],
      "execution_count": 47,
      "outputs": [
        {
          "output_type": "execute_result",
          "data": {
            "text/plain": [
              "array([[0., 0., 0., 0., 0.],\n",
              "       [0., 0., 0., 0., 0.],\n",
              "       [0., 0., 0., 0., 0.],\n",
              "       [0., 0., 0., 0., 0.],\n",
              "       [0., 0., 0., 0., 0.]])"
            ]
          },
          "metadata": {
            "tags": []
          },
          "execution_count": 47
        }
      ]
    },
    {
      "cell_type": "code",
      "metadata": {
        "id": "FCpou7-7-AK6",
        "colab": {
          "base_uri": "https://localhost:8080/"
        },
        "outputId": "60cd0215-ba61-4b04-ccd6-a33188235c13"
      },
      "source": [
        "''' Matriz diagonal'''\n",
        "D = np.diag([1,2,3,6,5]) # elementos da diagonal principal\n",
        "D"
      ],
      "execution_count": 58,
      "outputs": [
        {
          "output_type": "execute_result",
          "data": {
            "text/plain": [
              "array([[1, 0, 0, 0, 0],\n",
              "       [0, 2, 0, 0, 0],\n",
              "       [0, 0, 3, 0, 0],\n",
              "       [0, 0, 0, 6, 0],\n",
              "       [0, 0, 0, 0, 5]])"
            ]
          },
          "metadata": {
            "tags": []
          },
          "execution_count": 58
        }
      ]
    },
    {
      "cell_type": "code",
      "metadata": {
        "colab": {
          "base_uri": "https://localhost:8080/"
        },
        "id": "eYlB8s-2c-ak",
        "outputId": "1811b48c-d123-425e-acf3-a13f4327f5f5"
      },
      "source": [
        "D.shape"
      ],
      "execution_count": 59,
      "outputs": [
        {
          "output_type": "execute_result",
          "data": {
            "text/plain": [
              "(5, 5)"
            ]
          },
          "metadata": {
            "tags": []
          },
          "execution_count": 59
        }
      ]
    },
    {
      "cell_type": "code",
      "metadata": {
        "colab": {
          "base_uri": "https://localhost:8080/"
        },
        "id": "9CRc4yWXcCL-",
        "outputId": "62bc0f92-b892-4dd8-d59c-f09fb1f6791e"
      },
      "source": [
        "E = np.diag([1,1,1,1]) # Matriz identidade\r\n",
        "E"
      ],
      "execution_count": 60,
      "outputs": [
        {
          "output_type": "execute_result",
          "data": {
            "text/plain": [
              "array([[1, 0, 0, 0],\n",
              "       [0, 1, 0, 0],\n",
              "       [0, 0, 1, 0],\n",
              "       [0, 0, 0, 1]])"
            ]
          },
          "metadata": {
            "tags": []
          },
          "execution_count": 60
        }
      ]
    },
    {
      "cell_type": "code",
      "metadata": {
        "colab": {
          "base_uri": "https://localhost:8080/"
        },
        "id": "CgbLHKYIdCW7",
        "outputId": "f359599c-bff7-4d52-b6f9-cc04db6b62b4"
      },
      "source": [
        "E.shape"
      ],
      "execution_count": 61,
      "outputs": [
        {
          "output_type": "execute_result",
          "data": {
            "text/plain": [
              "(4, 4)"
            ]
          },
          "metadata": {
            "tags": []
          },
          "execution_count": 61
        }
      ]
    },
    {
      "cell_type": "code",
      "metadata": {
        "colab": {
          "base_uri": "https://localhost:8080/"
        },
        "id": "TlZMKRfHcnV0",
        "outputId": "ff31ed50-55cd-42b0-f6c7-c8d433fe3923"
      },
      "source": [
        "F = np.diag((1,1,1))\r\n",
        "F"
      ],
      "execution_count": 62,
      "outputs": [
        {
          "output_type": "execute_result",
          "data": {
            "text/plain": [
              "array([[1, 0, 0],\n",
              "       [0, 1, 0],\n",
              "       [0, 0, 1]])"
            ]
          },
          "metadata": {
            "tags": []
          },
          "execution_count": 62
        }
      ]
    },
    {
      "cell_type": "code",
      "metadata": {
        "colab": {
          "base_uri": "https://localhost:8080/"
        },
        "id": "p6DTYnJpdGAD",
        "outputId": "60edde23-65c7-48a9-f869-630d94865b94"
      },
      "source": [
        "F.shape"
      ],
      "execution_count": 63,
      "outputs": [
        {
          "output_type": "execute_result",
          "data": {
            "text/plain": [
              "(3, 3)"
            ]
          },
          "metadata": {
            "tags": []
          },
          "execution_count": 63
        }
      ]
    },
    {
      "cell_type": "code",
      "metadata": {
        "id": "LUKZ1-x5-84N",
        "colab": {
          "base_uri": "https://localhost:8080/"
        },
        "outputId": "c5d9299e-2d7f-4ffe-e5c0-a5c3a98adad7"
      },
      "source": [
        "'''Matriz identidade'''\n",
        "I = np.eye(4,4)\n",
        "I"
      ],
      "execution_count": 64,
      "outputs": [
        {
          "output_type": "execute_result",
          "data": {
            "text/plain": [
              "array([[1., 0., 0., 0.],\n",
              "       [0., 1., 0., 0.],\n",
              "       [0., 0., 1., 0.],\n",
              "       [0., 0., 0., 1.]])"
            ]
          },
          "metadata": {
            "tags": []
          },
          "execution_count": 64
        }
      ]
    },
    {
      "cell_type": "code",
      "metadata": {
        "colab": {
          "base_uri": "https://localhost:8080/"
        },
        "id": "-uAQdT05dKnD",
        "outputId": "850c4a16-87f3-4edd-a0c9-0d10eb954ec2"
      },
      "source": [
        "I.shape"
      ],
      "execution_count": 65,
      "outputs": [
        {
          "output_type": "execute_result",
          "data": {
            "text/plain": [
              "(4, 4)"
            ]
          },
          "metadata": {
            "tags": []
          },
          "execution_count": 65
        }
      ]
    },
    {
      "cell_type": "code",
      "metadata": {
        "id": "b_Wh8IU7_zy2",
        "colab": {
          "base_uri": "https://localhost:8080/"
        },
        "outputId": "30436264-5ee0-4acb-8b80-13363d36ee07"
      },
      "source": [
        "I1 = np.eye(7)\n",
        "I1"
      ],
      "execution_count": 67,
      "outputs": [
        {
          "output_type": "execute_result",
          "data": {
            "text/plain": [
              "array([[1., 0., 0., 0., 0., 0., 0.],\n",
              "       [0., 1., 0., 0., 0., 0., 0.],\n",
              "       [0., 0., 1., 0., 0., 0., 0.],\n",
              "       [0., 0., 0., 1., 0., 0., 0.],\n",
              "       [0., 0., 0., 0., 1., 0., 0.],\n",
              "       [0., 0., 0., 0., 0., 1., 0.],\n",
              "       [0., 0., 0., 0., 0., 0., 1.]])"
            ]
          },
          "metadata": {
            "tags": []
          },
          "execution_count": 67
        }
      ]
    },
    {
      "cell_type": "code",
      "metadata": {
        "colab": {
          "base_uri": "https://localhost:8080/"
        },
        "id": "QbvT6vhzdWTC",
        "outputId": "62824cd8-7413-4d30-d0e6-8ded23d3973c"
      },
      "source": [
        "I1.shape"
      ],
      "execution_count": 69,
      "outputs": [
        {
          "output_type": "execute_result",
          "data": {
            "text/plain": [
              "(7, 7)"
            ]
          },
          "metadata": {
            "tags": []
          },
          "execution_count": 69
        }
      ]
    },
    {
      "cell_type": "code",
      "metadata": {
        "id": "FeN_bnffdbVi"
      },
      "source": [
        "?np.eye"
      ],
      "execution_count": 71,
      "outputs": []
    },
    {
      "cell_type": "code",
      "metadata": {
        "colab": {
          "base_uri": "https://localhost:8080/"
        },
        "id": "50vJlwFKdrnZ",
        "outputId": "0b30bbe0-83be-47f2-f2fc-9282bf8bcc55"
      },
      "source": [
        "I2 = np.eye(2) # O elemento é real\r\n",
        "I2"
      ],
      "execution_count": 74,
      "outputs": [
        {
          "output_type": "execute_result",
          "data": {
            "text/plain": [
              "array([[1., 0.],\n",
              "       [0., 1.]])"
            ]
          },
          "metadata": {
            "tags": []
          },
          "execution_count": 74
        }
      ]
    },
    {
      "cell_type": "code",
      "metadata": {
        "id": "VnZ3B282AN8t"
      },
      "source": [
        "# Transposição de matrizes"
      ],
      "execution_count": 75,
      "outputs": []
    },
    {
      "cell_type": "code",
      "metadata": {
        "id": "Tdt8wM1feTdk"
      },
      "source": [
        "S = np.array([[1,4,3],[4,2,5],[3,5,0]])\n",
        "A = np.array([[1,2,3,6],[9,7,4,6]])\n",
        "B = np.array([[8,5,3,3],[1,0,1,8]])"
      ],
      "execution_count": 76,
      "outputs": []
    },
    {
      "cell_type": "code",
      "metadata": {
        "id": "RY7tC1ysfotv",
        "colab": {
          "base_uri": "https://localhost:8080/",
          "height": 35
        },
        "outputId": "ab39034a-dc84-4cd1-b93b-ee59c997368a"
      },
      "source": [
        "''' método para transpor matrizes np.transpose(matriz) '''"
      ],
      "execution_count": 77,
      "outputs": [
        {
          "output_type": "execute_result",
          "data": {
            "application/vnd.google.colaboratory.intrinsic+json": {
              "type": "string"
            },
            "text/plain": [
              "' método para transpor matrizes np.transpose(matriz) '"
            ]
          },
          "metadata": {
            "tags": []
          },
          "execution_count": 77
        }
      ]
    },
    {
      "cell_type": "code",
      "metadata": {
        "id": "jmnPZoZze9PY",
        "colab": {
          "base_uri": "https://localhost:8080/"
        },
        "outputId": "6b3ba174-b05a-4bf5-ce9e-8fb0827bf39b"
      },
      "source": [
        "S # S é simétrica"
      ],
      "execution_count": 80,
      "outputs": [
        {
          "output_type": "execute_result",
          "data": {
            "text/plain": [
              "array([[1, 4, 3],\n",
              "       [4, 2, 5],\n",
              "       [3, 5, 0]])"
            ]
          },
          "metadata": {
            "tags": []
          },
          "execution_count": 80
        }
      ]
    },
    {
      "cell_type": "code",
      "metadata": {
        "id": "akYsHG3xfCcg",
        "colab": {
          "base_uri": "https://localhost:8080/"
        },
        "outputId": "24a5b134-ea52-4c90-c1cb-540223bae09d"
      },
      "source": [
        "np.transpose(S)"
      ],
      "execution_count": 81,
      "outputs": [
        {
          "output_type": "execute_result",
          "data": {
            "text/plain": [
              "array([[1, 4, 3],\n",
              "       [4, 2, 5],\n",
              "       [3, 5, 0]])"
            ]
          },
          "metadata": {
            "tags": []
          },
          "execution_count": 81
        }
      ]
    },
    {
      "cell_type": "code",
      "metadata": {
        "id": "aDP0Nqv-fLjI",
        "colab": {
          "base_uri": "https://localhost:8080/"
        },
        "outputId": "e15e0867-4e70-4d11-f94e-399752af7a8a"
      },
      "source": [
        "A"
      ],
      "execution_count": 82,
      "outputs": [
        {
          "output_type": "execute_result",
          "data": {
            "text/plain": [
              "array([[1, 2, 3, 6],\n",
              "       [9, 7, 4, 6]])"
            ]
          },
          "metadata": {
            "tags": []
          },
          "execution_count": 82
        }
      ]
    },
    {
      "cell_type": "code",
      "metadata": {
        "id": "hZHZYq0yfM4_",
        "colab": {
          "base_uri": "https://localhost:8080/"
        },
        "outputId": "888e314a-907c-4c79-c765-f950774cba75"
      },
      "source": [
        "np.transpose(A)"
      ],
      "execution_count": 83,
      "outputs": [
        {
          "output_type": "execute_result",
          "data": {
            "text/plain": [
              "array([[1, 9],\n",
              "       [2, 7],\n",
              "       [3, 4],\n",
              "       [6, 6]])"
            ]
          },
          "metadata": {
            "tags": []
          },
          "execution_count": 83
        }
      ]
    },
    {
      "cell_type": "code",
      "metadata": {
        "id": "8at289D1fR18",
        "colab": {
          "base_uri": "https://localhost:8080/"
        },
        "outputId": "94bc0271-ae4c-45a7-8ad8-4777672bc477"
      },
      "source": [
        "B"
      ],
      "execution_count": 84,
      "outputs": [
        {
          "output_type": "execute_result",
          "data": {
            "text/plain": [
              "array([[8, 5, 3, 3],\n",
              "       [1, 0, 1, 8]])"
            ]
          },
          "metadata": {
            "tags": []
          },
          "execution_count": 84
        }
      ]
    },
    {
      "cell_type": "code",
      "metadata": {
        "id": "V_aRuGXVfVn4",
        "colab": {
          "base_uri": "https://localhost:8080/"
        },
        "outputId": "b2dc49da-9afb-4bb7-9369-cfcafa38b373"
      },
      "source": [
        "np.transpose(B)"
      ],
      "execution_count": 85,
      "outputs": [
        {
          "output_type": "execute_result",
          "data": {
            "text/plain": [
              "array([[8, 1],\n",
              "       [5, 0],\n",
              "       [3, 1],\n",
              "       [3, 8]])"
            ]
          },
          "metadata": {
            "tags": []
          },
          "execution_count": 85
        }
      ]
    },
    {
      "cell_type": "code",
      "metadata": {
        "id": "j7deiufdfaWP",
        "colab": {
          "base_uri": "https://localhost:8080/"
        },
        "outputId": "49635c4b-3c96-4b1e-f116-a939014612ae"
      },
      "source": [
        "''' método para transpor matrizes matriz.T '''\n",
        "A.T"
      ],
      "execution_count": 86,
      "outputs": [
        {
          "output_type": "execute_result",
          "data": {
            "text/plain": [
              "array([[1, 9],\n",
              "       [2, 7],\n",
              "       [3, 4],\n",
              "       [6, 6]])"
            ]
          },
          "metadata": {
            "tags": []
          },
          "execution_count": 86
        }
      ]
    },
    {
      "cell_type": "code",
      "metadata": {
        "id": "tU3aBJ-dgEQe",
        "colab": {
          "base_uri": "https://localhost:8080/"
        },
        "outputId": "b2b5b31a-15b8-489d-9402-6dd39273df5e"
      },
      "source": [
        "B.T"
      ],
      "execution_count": 87,
      "outputs": [
        {
          "output_type": "execute_result",
          "data": {
            "text/plain": [
              "array([[8, 1],\n",
              "       [5, 0],\n",
              "       [3, 1],\n",
              "       [3, 8]])"
            ]
          },
          "metadata": {
            "tags": []
          },
          "execution_count": 87
        }
      ]
    },
    {
      "cell_type": "code",
      "metadata": {
        "id": "08nMo9mJgJJe"
      },
      "source": [
        " ''' Testando propriedade da transposição de matrizes '''"
      ],
      "execution_count": null,
      "outputs": []
    },
    {
      "cell_type": "code",
      "metadata": {
        "id": "Wixg91CihGqt",
        "colab": {
          "base_uri": "https://localhost:8080/"
        },
        "outputId": "0fa7998c-7318-431a-d840-9782256b0060"
      },
      "source": [
        "# i) Simetria de matrizes\n",
        "np.array_equal(S,S.T)"
      ],
      "execution_count": 88,
      "outputs": [
        {
          "output_type": "execute_result",
          "data": {
            "text/plain": [
              "True"
            ]
          },
          "metadata": {
            "tags": []
          },
          "execution_count": 88
        }
      ]
    },
    {
      "cell_type": "code",
      "metadata": {
        "id": "4gt3CLIfhUtU",
        "colab": {
          "base_uri": "https://localhost:8080/"
        },
        "outputId": "67d011e4-5f7a-462a-9311-651fecee0afe"
      },
      "source": [
        "# ii) Transposta da transposta\n",
        "np.array_equal(A.T.T, A)"
      ],
      "execution_count": 89,
      "outputs": [
        {
          "output_type": "execute_result",
          "data": {
            "text/plain": [
              "True"
            ]
          },
          "metadata": {
            "tags": []
          },
          "execution_count": 89
        }
      ]
    },
    {
      "cell_type": "code",
      "metadata": {
        "id": "8UgNFEmIhq1q",
        "colab": {
          "base_uri": "https://localhost:8080/"
        },
        "outputId": "dcd9f987-c16d-40f6-c20e-8dd3af4a1bc3"
      },
      "source": [
        "# iii) Soma de transposta\n",
        "np.array_equal((A+B).T, A.T+B.T)"
      ],
      "execution_count": 90,
      "outputs": [
        {
          "output_type": "execute_result",
          "data": {
            "text/plain": [
              "True"
            ]
          },
          "metadata": {
            "tags": []
          },
          "execution_count": 90
        }
      ]
    },
    {
      "cell_type": "code",
      "metadata": {
        "id": "c0mqhif1iF5C",
        "colab": {
          "base_uri": "https://localhost:8080/"
        },
        "outputId": "36b52e71-8b6b-442e-8f4d-0dedffe00110"
      },
      "source": [
        "# iv) transposta de uma matriz multipplicada por um escalar\n",
        "k = 2\n",
        "np.array_equal((k*B).T, k*(B.T))"
      ],
      "execution_count": 92,
      "outputs": [
        {
          "output_type": "execute_result",
          "data": {
            "text/plain": [
              "True"
            ]
          },
          "metadata": {
            "tags": []
          },
          "execution_count": 92
        }
      ]
    },
    {
      "cell_type": "code",
      "metadata": {
        "id": "R4W011OMimmZ"
      },
      "source": [
        "# Slicing de matrizes - indexação de matrizes - parte 1"
      ],
      "execution_count": null,
      "outputs": []
    },
    {
      "cell_type": "code",
      "metadata": {
        "id": "pEjTkE9EjO5R"
      },
      "source": [
        "A = np.array([[2,4,6],[4,7,1],[9,3,8]])"
      ],
      "execution_count": null,
      "outputs": []
    },
    {
      "cell_type": "code",
      "metadata": {
        "id": "IgHrB9xzjrif"
      },
      "source": [
        "A"
      ],
      "execution_count": null,
      "outputs": []
    },
    {
      "cell_type": "code",
      "metadata": {
        "id": "H7w4UoiDjso3"
      },
      "source": [
        "''' retorna a dimensão da matriz '''\n",
        "A.shape"
      ],
      "execution_count": null,
      "outputs": []
    },
    {
      "cell_type": "code",
      "metadata": {
        "id": "ZzuW2sTHj72e"
      },
      "source": [
        "''' Slicing - fatiamento'''\n",
        "A[:]"
      ],
      "execution_count": null,
      "outputs": []
    },
    {
      "cell_type": "code",
      "metadata": {
        "id": "bJNKCfkbkLxG"
      },
      "source": [
        "A[:,:]"
      ],
      "execution_count": null,
      "outputs": []
    },
    {
      "cell_type": "code",
      "metadata": {
        "id": "r_VvguaYkXPW"
      },
      "source": [
        "A[1,:] # linha 1 e todas as colunas"
      ],
      "execution_count": null,
      "outputs": []
    },
    {
      "cell_type": "code",
      "metadata": {
        "id": "i1dyh4QUkmW8"
      },
      "source": [
        "A[2,:] # linha 1 e todas as colunas"
      ],
      "execution_count": null,
      "outputs": []
    },
    {
      "cell_type": "code",
      "metadata": {
        "id": "80eogtbPktAE"
      },
      "source": [
        "A[:,0] # Coluna 0 e todas as linhas"
      ],
      "execution_count": null,
      "outputs": []
    },
    {
      "cell_type": "code",
      "metadata": {
        "id": "j5XySRqqkxKk"
      },
      "source": [
        "A[1,1] # um elemento, linha 1 coluna 1"
      ],
      "execution_count": null,
      "outputs": []
    },
    {
      "cell_type": "code",
      "metadata": {
        "id": "zuEXFlnClAts"
      },
      "source": [
        "J = A # J é uma referência de A e não uma cópia"
      ],
      "execution_count": null,
      "outputs": []
    },
    {
      "cell_type": "code",
      "metadata": {
        "id": "1vf8aTbIltWW"
      },
      "source": [
        "J"
      ],
      "execution_count": null,
      "outputs": []
    },
    {
      "cell_type": "code",
      "metadata": {
        "id": "-PgMRrhqlvbz"
      },
      "source": [
        "J[0,2] = 19 # Alterar valor damatriz J"
      ],
      "execution_count": null,
      "outputs": []
    },
    {
      "cell_type": "code",
      "metadata": {
        "id": "OL5wddcJl526"
      },
      "source": [
        "J"
      ],
      "execution_count": null,
      "outputs": []
    },
    {
      "cell_type": "code",
      "metadata": {
        "id": "oM8U0aQFl6ea",
        "colab": {
          "base_uri": "https://localhost:8080/"
        },
        "outputId": "8cc2e046-84d5-4124-800e-47a299000bc6"
      },
      "source": [
        "A # A matriz A tbm é alterada"
      ],
      "execution_count": 13,
      "outputs": [
        {
          "output_type": "execute_result",
          "data": {
            "text/plain": [
              "array([[ 2, -1],\n",
              "       [ 0,  4]])"
            ]
          },
          "metadata": {
            "tags": []
          },
          "execution_count": 13
        }
      ]
    },
    {
      "cell_type": "code",
      "metadata": {
        "id": "b-N2lu4ImOba"
      },
      "source": [
        "# Cópia de matrizes"
      ],
      "execution_count": 14,
      "outputs": []
    },
    {
      "cell_type": "code",
      "metadata": {
        "id": "Qg4iLv7tmnCx",
        "colab": {
          "base_uri": "https://localhost:8080/",
          "height": 163
        },
        "outputId": "05c32d4f-c0f7-4695-a4c4-19256a44faf1"
      },
      "source": [
        "G =J.copy()"
      ],
      "execution_count": 15,
      "outputs": [
        {
          "output_type": "error",
          "ename": "NameError",
          "evalue": "ignored",
          "traceback": [
            "\u001b[0;31m---------------------------------------------------------------------------\u001b[0m",
            "\u001b[0;31mNameError\u001b[0m                                 Traceback (most recent call last)",
            "\u001b[0;32m<ipython-input-15-d28cd5ee0a5f>\u001b[0m in \u001b[0;36m<module>\u001b[0;34m()\u001b[0m\n\u001b[0;32m----> 1\u001b[0;31m \u001b[0mG\u001b[0m \u001b[0;34m=\u001b[0m\u001b[0mJ\u001b[0m\u001b[0;34m.\u001b[0m\u001b[0mcopy\u001b[0m\u001b[0;34m(\u001b[0m\u001b[0;34m)\u001b[0m\u001b[0;34m\u001b[0m\u001b[0;34m\u001b[0m\u001b[0m\n\u001b[0m",
            "\u001b[0;31mNameError\u001b[0m: name 'J' is not defined"
          ]
        }
      ]
    },
    {
      "cell_type": "code",
      "metadata": {
        "id": "RyqsodlBmwUQ",
        "colab": {
          "base_uri": "https://localhost:8080/",
          "height": 163
        },
        "outputId": "3649883d-de12-4183-bde2-49ec1af6e1c8"
      },
      "source": [
        "G"
      ],
      "execution_count": 16,
      "outputs": [
        {
          "output_type": "error",
          "ename": "NameError",
          "evalue": "ignored",
          "traceback": [
            "\u001b[0;31m---------------------------------------------------------------------------\u001b[0m",
            "\u001b[0;31mNameError\u001b[0m                                 Traceback (most recent call last)",
            "\u001b[0;32m<ipython-input-16-96e89ba817df>\u001b[0m in \u001b[0;36m<module>\u001b[0;34m()\u001b[0m\n\u001b[0;32m----> 1\u001b[0;31m \u001b[0mG\u001b[0m\u001b[0;34m\u001b[0m\u001b[0;34m\u001b[0m\u001b[0m\n\u001b[0m",
            "\u001b[0;31mNameError\u001b[0m: name 'G' is not defined"
          ]
        }
      ]
    },
    {
      "cell_type": "code",
      "metadata": {
        "id": "6TOZXSnYmxs4"
      },
      "source": [
        "G[2,2] = 63"
      ],
      "execution_count": null,
      "outputs": []
    },
    {
      "cell_type": "code",
      "metadata": {
        "id": "cYpehRBPm4OR",
        "colab": {
          "base_uri": "https://localhost:8080/",
          "height": 163
        },
        "outputId": "a148447b-4afd-4a06-cc3c-5bc1e9570b33"
      },
      "source": [
        "G"
      ],
      "execution_count": 17,
      "outputs": [
        {
          "output_type": "error",
          "ename": "NameError",
          "evalue": "ignored",
          "traceback": [
            "\u001b[0;31m---------------------------------------------------------------------------\u001b[0m",
            "\u001b[0;31mNameError\u001b[0m                                 Traceback (most recent call last)",
            "\u001b[0;32m<ipython-input-17-96e89ba817df>\u001b[0m in \u001b[0;36m<module>\u001b[0;34m()\u001b[0m\n\u001b[0;32m----> 1\u001b[0;31m \u001b[0mG\u001b[0m\u001b[0;34m\u001b[0m\u001b[0;34m\u001b[0m\u001b[0m\n\u001b[0m",
            "\u001b[0;31mNameError\u001b[0m: name 'G' is not defined"
          ]
        }
      ]
    },
    {
      "cell_type": "code",
      "metadata": {
        "id": "6bBZ1uikm49I"
      },
      "source": [
        "J"
      ],
      "execution_count": null,
      "outputs": []
    },
    {
      "cell_type": "code",
      "metadata": {
        "id": "PtIgFxV_m6kA",
        "colab": {
          "base_uri": "https://localhost:8080/",
          "height": 163
        },
        "outputId": "a5bbc46d-2de4-423b-d6d9-a06c82e9db0b"
      },
      "source": [
        "F = J[:,1] # todos os elementos da coluna 1"
      ],
      "execution_count": 18,
      "outputs": [
        {
          "output_type": "error",
          "ename": "NameError",
          "evalue": "ignored",
          "traceback": [
            "\u001b[0;31m---------------------------------------------------------------------------\u001b[0m",
            "\u001b[0;31mNameError\u001b[0m                                 Traceback (most recent call last)",
            "\u001b[0;32m<ipython-input-18-391d9cc9a7c7>\u001b[0m in \u001b[0;36m<module>\u001b[0;34m()\u001b[0m\n\u001b[0;32m----> 1\u001b[0;31m \u001b[0mF\u001b[0m \u001b[0;34m=\u001b[0m \u001b[0mJ\u001b[0m\u001b[0;34m[\u001b[0m\u001b[0;34m:\u001b[0m\u001b[0;34m,\u001b[0m\u001b[0;36m1\u001b[0m\u001b[0;34m]\u001b[0m \u001b[0;31m# todos os elementos da coluna 1\u001b[0m\u001b[0;34m\u001b[0m\u001b[0;34m\u001b[0m\u001b[0m\n\u001b[0m",
            "\u001b[0;31mNameError\u001b[0m: name 'J' is not defined"
          ]
        }
      ]
    },
    {
      "cell_type": "code",
      "metadata": {
        "id": "8BOvB54HnK-f"
      },
      "source": [
        "F"
      ],
      "execution_count": null,
      "outputs": []
    },
    {
      "cell_type": "code",
      "metadata": {
        "id": "2KIpoGNrnRco"
      },
      "source": [
        ""
      ],
      "execution_count": 18,
      "outputs": []
    }
  ]
}